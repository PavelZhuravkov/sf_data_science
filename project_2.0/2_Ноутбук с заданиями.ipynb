{
 "cells": [
  {
   "cell_type": "markdown",
   "metadata": {},
   "source": [
    "<center> <img src = https://raw.githubusercontent.com/AndreyRysistov/DatasetsForPandas/main/hh%20label.jpg alt=\"drawing\" style=\"width:400px;\">"
   ]
  },
  {
   "cell_type": "markdown",
   "metadata": {},
   "source": [
    "# <center> Проект: Анализ вакансий из HeadHunter"
   ]
  },
  {
   "cell_type": "code",
   "execution_count": null,
   "metadata": {},
   "outputs": [],
   "source": [
    "import pandas as pd\n",
    "import psycopg2\n",
    "import requests\n",
    "from bs4 import BeautifulSoup\n",
    "import warnings\n",
    "warnings.filterwarnings('ignore')"
   ]
  },
  {
   "cell_type": "code",
   "execution_count": null,
   "metadata": {},
   "outputs": [],
   "source": [
    "DBNAME = 'project_sql'\n",
    "USER = 'skillfactory'\n",
    "PASSWORD = 'cCkxxLVrDE8EbvjueeMedPKt'\n",
    "HOST = '84.201.134.129'\n",
    "PORT = 5432"
   ]
  },
  {
   "cell_type": "code",
   "execution_count": null,
   "metadata": {},
   "outputs": [],
   "source": [
    "connection = psycopg2.connect(\n",
    "    dbname=DBNAME,\n",
    "    user=USER,\n",
    "    host=HOST,\n",
    "    password=PASSWORD,\n",
    "    port=PORT\n",
    ")"
   ]
  },
  {
   "cell_type": "markdown",
   "metadata": {},
   "source": [
    "# Юнит 3. Предварительный анализ данных"
   ]
  },
  {
   "cell_type": "markdown",
   "metadata": {},
   "source": [
    "1. Напишите запрос, который посчитает количество вакансий в нашей базе (вакансии находятся в таблице vacancies). "
   ]
  },
  {
   "cell_type": "code",
   "execution_count": null,
   "metadata": {},
   "outputs": [],
   "source": [
    "query_3_1 = f'''\n",
    "      SELECT\n",
    "              COUNT(id) AS \"Количество вакансий\"\n",
    "        FROM  public.vacancies\n",
    "'''"
   ]
  },
  {
   "cell_type": "code",
   "execution_count": null,
   "metadata": {},
   "outputs": [],
   "source": [
    "df = pd.read_sql_query(query_3_1, connection)\n",
    "display(df)"
   ]
  },
  {
   "cell_type": "markdown",
   "metadata": {},
   "source": [
    "2. Напишите запрос, который посчитает количество работодателей (таблица employers)."
   ]
  },
  {
   "cell_type": "code",
   "execution_count": null,
   "metadata": {},
   "outputs": [],
   "source": [
    "query_3_2 = f'''\n",
    "      SELECT\n",
    "              COUNT(id) AS \"Количество работодателей\"\n",
    "        FROM  public.employers\n",
    "'''"
   ]
  },
  {
   "cell_type": "code",
   "execution_count": null,
   "metadata": {},
   "outputs": [],
   "source": [
    "df = pd.read_sql_query(query_3_2, connection)\n",
    "display(df)"
   ]
  },
  {
   "cell_type": "markdown",
   "metadata": {},
   "source": [
    "3. Посчитате с помощью запроса количество регионов (таблица areas)."
   ]
  },
  {
   "cell_type": "code",
   "execution_count": null,
   "metadata": {},
   "outputs": [],
   "source": [
    "query_3_3 = f'''\n",
    "      SELECT\n",
    "              COUNT(id) AS \"Количество регионов\"\n",
    "        FROM  public.areas\n",
    "'''"
   ]
  },
  {
   "cell_type": "code",
   "execution_count": null,
   "metadata": {},
   "outputs": [],
   "source": [
    "df = pd.read_sql_query(query_3_3, connection)\n",
    "display(df)"
   ]
  },
  {
   "cell_type": "markdown",
   "metadata": {},
   "source": [
    "4. Посчитате с помощью запроса количество сфер деятельности в базе (таблица industries)."
   ]
  },
  {
   "cell_type": "code",
   "execution_count": null,
   "metadata": {},
   "outputs": [],
   "source": [
    "query_3_4 = f'''\n",
    "      SELECT\n",
    "             COUNT(id) AS \"Количество сфер деятельности\"\n",
    "        FROM  public.industries\n",
    "'''"
   ]
  },
  {
   "cell_type": "code",
   "execution_count": null,
   "metadata": {},
   "outputs": [],
   "source": [
    "df = pd.read_sql_query(query_3_4, connection)\n",
    "display(df)"
   ]
  },
  {
   "cell_type": "markdown",
   "metadata": {},
   "source": [
    "***"
   ]
  },
  {
   "cell_type": "markdown",
   "metadata": {},
   "source": [
    "### Вывод:\n",
    "После проведения ознакомительного(предварительного) анализа имеющихся у нас таблиц, мы можем сделать некоторые выводы. Нам предоставлены данные о значительном количестве работодателей которым требуются специалисты с различным уровнем квалификации и опыта работы.\n",
    "Также мы понимаем, что в настоящее время требуются работники в самых различных сферах деятельности во многих регионах нашей страны и за ее пределами. "
   ]
  },
  {
   "cell_type": "markdown",
   "metadata": {},
   "source": [
    "# Юнит 4. Детальный анализ вакансий"
   ]
  },
  {
   "cell_type": "markdown",
   "metadata": {},
   "source": [
    "1. Напишите запрос, который позволит узнать, сколько (cnt) вакансий в каждом регионе (area).\n",
    "Отсортируйте по количеству вакансий в порядке убывания."
   ]
  },
  {
   "cell_type": "code",
   "execution_count": null,
   "metadata": {},
   "outputs": [],
   "source": [
    "query_4_1 = f'''\n",
    "      SELECT\n",
    "              a.name AS \"Регион\",\n",
    "              COUNT(v.id) AS \"Количество вакансий\"\n",
    "        FROM  public.vacancies v\n",
    "              LEFT JOIN public.areas a \n",
    "              ON v.area_id = a.id\n",
    "       GROUP  BY a.name\n",
    "       ORDER  BY 2 desc\n",
    "       LIMIT  5\n",
    "'''"
   ]
  },
  {
   "cell_type": "code",
   "execution_count": null,
   "metadata": {},
   "outputs": [],
   "source": [
    "df = pd.read_sql_query(query_4_1, connection)\n",
    "display(df)"
   ]
  },
  {
   "cell_type": "markdown",
   "metadata": {},
   "source": [
    "2. Напишите запрос, чтобы определить у какого количества вакансий заполнено хотя бы одно из двух полей с зарплатой."
   ]
  },
  {
   "cell_type": "code",
   "execution_count": null,
   "metadata": {},
   "outputs": [],
   "source": [
    "query_4_2 = f'''\n",
    "      SELECT\n",
    "              COUNT(id)\n",
    "        FROM  public.vacancies \n",
    "       WHERE  salary_from IS NOT NULL \n",
    "              OR salary_to IS NOT NULL\n",
    "'''"
   ]
  },
  {
   "cell_type": "code",
   "execution_count": null,
   "metadata": {},
   "outputs": [],
   "source": [
    "df = pd.read_sql_query(query_4_2, connection)\n",
    "display(df)"
   ]
  },
  {
   "cell_type": "markdown",
   "metadata": {},
   "source": [
    "3. Найдите средние значения для нижней и верхней границы зарплатной вилки. Округлите значения до целого."
   ]
  },
  {
   "cell_type": "code",
   "execution_count": null,
   "metadata": {},
   "outputs": [],
   "source": [
    "query_4_3 = f'''\n",
    "      SELECT\n",
    "              ROUND(AVG(salary_from)) AS \"Средняя з/п нижняя граница\",\n",
    "              ROUND(AVG(salary_to)) AS \" Средняя з/п верхняя граница\"\n",
    "        FROM  public.vacancies\n",
    "'''"
   ]
  },
  {
   "cell_type": "code",
   "execution_count": null,
   "metadata": {},
   "outputs": [],
   "source": [
    "df = pd.read_sql_query(query_4_3, connection)\n",
    "display(df)"
   ]
  },
  {
   "cell_type": "markdown",
   "metadata": {},
   "source": [
    "4. Напишите запрос, который выведет количество вакансий для каждого сочетания типа рабочего графика (schedule) и типа трудоустройства (employment), используемого в вакансиях. Результат отсортируйте по убыванию количества."
   ]
  },
  {
   "cell_type": "code",
   "execution_count": null,
   "metadata": {},
   "outputs": [],
   "source": [
    "query_4_4 = f'''\n",
    "      SELECT\n",
    "              schedule,\n",
    "              employment,\n",
    "              COUNT(id)\n",
    "        FROM  public.vacancies\n",
    "       GROUP  BY 1,2\n",
    "       ORDER  BY 3 desc\n",
    "      OFFSET  1 \n",
    "       LIMIT  1\n",
    "'''"
   ]
  },
  {
   "cell_type": "code",
   "execution_count": null,
   "metadata": {},
   "outputs": [],
   "source": [
    "df = pd.read_sql_query(query_4_4, connection)\n",
    "display(df)"
   ]
  },
  {
   "cell_type": "markdown",
   "metadata": {},
   "source": [
    "5. Напишите запрос, выводящий значения поля Требуемый опыт работы (experience) в порядке возрастания количества вакансий, в которых указан данный вариант опыта. "
   ]
  },
  {
   "cell_type": "code",
   "execution_count": null,
   "metadata": {},
   "outputs": [],
   "source": [
    "query_4_5 = f'''\n",
    "      SELECT\n",
    "              experience,\n",
    "              COUNT(experience)\n",
    "        FROM  public.vacancies\n",
    "       GROUP  by experience\n",
    "       ORDER  BY 2\n",
    "'''"
   ]
  },
  {
   "cell_type": "code",
   "execution_count": null,
   "metadata": {},
   "outputs": [],
   "source": [
    "df = pd.read_sql_query(query_4_5, connection)\n",
    "display(df)"
   ]
  },
  {
   "cell_type": "markdown",
   "metadata": {},
   "source": [
    "***"
   ]
  },
  {
   "cell_type": "markdown",
   "metadata": {},
   "source": [
    " ### Выводы:\n",
    "Проведя детальный анализ данных, выяснили ,что наибольшее количество вакансий находится в городах-столицах (Москва, Санкт Петербург), столицах соседних государств (Минск, Алматы), а также в столице Сибири (Новосибирске). Средняя зарплата по вакансиям сотавляет более 90 т.руб. Наиболее популярным сочетанием рабочего графика и типа трудоустройства является - удаленная работа - полная занятость. Требуется большое количество работников с опытом работы от 1 года до трех лет. Молодые специалисты вполне могут найти интересную работу с достойной оплатой труда."
   ]
  },
  {
   "cell_type": "markdown",
   "metadata": {},
   "source": [
    "# Юнит 5. Анализ работодателей"
   ]
  },
  {
   "cell_type": "markdown",
   "metadata": {},
   "source": [
    "1. Напишите запрос, который позволит узнать, какие работодатели находятся на первом и пятом месте по количеству вакансий."
   ]
  },
  {
   "cell_type": "code",
   "execution_count": null,
   "metadata": {},
   "outputs": [],
   "source": [
    "query_5_1 = f'''\n",
    "     (SELECT\n",
    "              e.name,      \n",
    "              COUNT(v.id)\n",
    "        FROM  public.vacancies v\n",
    "              LEFT JOIN employers e \n",
    "              ON v.employer_id = e.id\n",
    "       GROUP  BY e.id\n",
    "       ORDER  BY 2 desc\n",
    "       LIMIT  1)\n",
    "\n",
    "       UNION \n",
    "             \n",
    "     (SELECT\n",
    "              e.name,       \n",
    "              COUNT(v.id)   \n",
    "        FROM  public.vacancies v\n",
    "              LEFT JOIN employers e \n",
    "              ON v.employer_id = e.id\n",
    "       GROUP  BY e.id\n",
    "       ORDER  BY 2 desc\n",
    "      OFFSET  4 \n",
    "       LIMIT  1)\n",
    "       order  by 2 DESC\n",
    "'''"
   ]
  },
  {
   "cell_type": "code",
   "execution_count": null,
   "metadata": {},
   "outputs": [],
   "source": [
    "df = pd.read_sql_query(query_5_1, connection)\n",
    "display(df)"
   ]
  },
  {
   "cell_type": "markdown",
   "metadata": {},
   "source": [
    "2. Напишите запрос, который для каждого региона выведет количество работодателей и вакансий в нём.\n",
    "Среди регионов, в которых нет вакансий, найдите тот, в котором наибольшее количество работодателей."
   ]
  },
  {
   "cell_type": "code",
   "execution_count": null,
   "metadata": {},
   "outputs": [],
   "source": [
    "query_5_2 = f'''\n",
    "      SELECT\n",
    "              a.name,\n",
    "              COUNT(DISTINCT e.id),\n",
    "              COUNT(DISTINCT v.id)\n",
    "        FROM  public.areas a\n",
    "              LEFT JOIN public.employers e \n",
    "              ON e.area = a.id\n",
    "              \n",
    "              LEFT JOIN public.vacancies v \n",
    "              ON v.area_id = a.id\n",
    "       WHERE  v.id IS NULL\n",
    "       GROUP  BY a.name\n",
    "       ORDER  BY 2 desc\n",
    "       LIMIT  1\n",
    "'''"
   ]
  },
  {
   "cell_type": "code",
   "execution_count": null,
   "metadata": {},
   "outputs": [],
   "source": [
    "df = pd.read_sql_query(query_5_2, connection)\n",
    "display(df)"
   ]
  },
  {
   "cell_type": "markdown",
   "metadata": {},
   "source": [
    "3. Для каждого работодателя посчитайте количество регионов, в которых он публикует свои вакансии. Отсортируйте результат по убыванию количества."
   ]
  },
  {
   "cell_type": "code",
   "execution_count": null,
   "metadata": {},
   "outputs": [],
   "source": [
    "query_5_3 = f'''\n",
    "      SELECT\n",
    "              e.name AS name,\n",
    "              COUNT(distinct v.area_id) AS cnt_area\n",
    "        FROM  employers e\n",
    "              JOIN vacancies v \n",
    "              ON e.id = v.employer_id\n",
    "       GROUP  BY e.name\n",
    "       ORDER  BY cnt_area DESC\n",
    "       LIMIT  1\n",
    "        '''"
   ]
  },
  {
   "cell_type": "code",
   "execution_count": null,
   "metadata": {},
   "outputs": [],
   "source": [
    "df = pd.read_sql_query(query_5_3, connection)\n",
    "display(df)"
   ]
  },
  {
   "cell_type": "markdown",
   "metadata": {},
   "source": [
    "4. Напишите запрос для подсчёта количества работодателей, у которых не указана сфера деятельности. "
   ]
  },
  {
   "cell_type": "code",
   "execution_count": null,
   "metadata": {},
   "outputs": [],
   "source": [
    "query_5_4 = f'''\n",
    "      SELECT\n",
    "              COUNT(e.name) AS cnt_name\n",
    "        FROM  employers e\n",
    "              LEFT JOIN employers_industries ei \n",
    "              ON e.id = ei.employer_id\n",
    "              \n",
    "              LEFT JOIN industries i \n",
    "              ON i.id = ei.industry_id\n",
    "       WHERE  i.name IS NULL\n",
    "        '''"
   ]
  },
  {
   "cell_type": "code",
   "execution_count": null,
   "metadata": {},
   "outputs": [],
   "source": [
    "df = pd.read_sql_query(query_5_4, connection)\n",
    "display(df)"
   ]
  },
  {
   "cell_type": "markdown",
   "metadata": {},
   "source": [
    "5. Напишите запрос, чтобы узнать название компании, находящейся на третьем месте в алфавитном списке (по названию) компаний, у которых указано четыре сферы деятельности."
   ]
  },
  {
   "cell_type": "code",
   "execution_count": null,
   "metadata": {},
   "outputs": [],
   "source": [
    "query_5_5 = f'''\n",
    "      SELECT\n",
    "              e.name,\n",
    "              COUNT(i.name) AS cnt_name\n",
    "        FROM  employers e\n",
    "              LEFT JOIN employers_industries ei \n",
    "              ON e.id = ei.employer_id\n",
    "              \n",
    "              LEFT JOIN industries i \n",
    "              ON i.id = ei.industry_id\n",
    "       GROUP  BY e.name\n",
    "      HAVING  COUNT(i.name) = 4\n",
    "       ORDER  BY e.name\n",
    "      OFFSET  2 \n",
    "       LIMIT  1\n",
    "'''"
   ]
  },
  {
   "cell_type": "code",
   "execution_count": null,
   "metadata": {},
   "outputs": [],
   "source": [
    "df = pd.read_sql_query(query_5_5, connection)\n",
    "display(df)"
   ]
  },
  {
   "cell_type": "markdown",
   "metadata": {},
   "source": [
    "6. С помощью запроса выясните, у какого количества работодателей в качестве сферы деятельности указана Разработка программного обеспечения."
   ]
  },
  {
   "cell_type": "code",
   "execution_count": null,
   "metadata": {},
   "outputs": [],
   "source": [
    "query_5_6 = f'''\n",
    "      SELECT\n",
    "              COUNT(e.name) AS cnt_name\n",
    "        FROM  employers e\n",
    "              LEFT JOIN employers_industries ei \n",
    "              ON e.id = ei.employer_id\n",
    "              \n",
    "              LEFT JOIN industries i \n",
    "              ON i.id = ei.industry_id\n",
    "       WHERE  i.name ='Разработка программного обеспечения'\n",
    "'''"
   ]
  },
  {
   "cell_type": "code",
   "execution_count": null,
   "metadata": {},
   "outputs": [],
   "source": [
    "df = pd.read_sql_query(query_5_6, connection)\n",
    "display(df)"
   ]
  },
  {
   "cell_type": "markdown",
   "metadata": {},
   "source": [
    "7. Для компании «Яндекс» выведите список регионов-миллионников, в которых представлены вакансии компании, вместе с количеством вакансий в этих регионах. Также добавьте строку Total с общим количеством вакансий компании. Результат отсортируйте по возрастанию количества.\n",
    "\n",
    "Список городов-милионников надо взять [отсюда](https://ru.wikipedia.org/wiki/%D0%93%D0%BE%D1%80%D0%BE%D0%B4%D0%B0-%D0%BC%D0%B8%D0%BB%D0%BB%D0%B8%D0%BE%D0%BD%D0%B5%D1%80%D1%8B_%D0%A0%D0%BE%D1%81%D1%81%D0%B8%D0%B8). \n",
    "\n",
    "Если возникнут трудности с этим задание посмотрите материалы модуля  PYTHON-17. Как получать данные из веб-источников и API."
   ]
  },
  {
   "cell_type": "code",
   "execution_count": null,
   "metadata": {},
   "outputs": [],
   "source": [
    "df =pd.read_html('https://ru.wikipedia.org/wiki/%D0%93%D0%BE%D1%80%D0%BE%D0%B4%D0%B0-%D0%BC%D0%B8%D0%BB%D0%BB%D0%B8%D0%BE%D0%BD%D0%B5%D1%80%D1%8B_%D0%A0%D0%BE%D1%81%D1%81%D0%B8%D0%B8#%D0%A1%D0%BF%D0%B8%D1%81%D0%BE%D0%BA_%D0%B3%D0%BE%D1%80%D0%BE%D0%B4%D0%BE%D0%B2-%D0%BC%D0%B8%D0%BB%D0%BB%D0%B8%D0%BE%D0%BD%D0%B5%D1%80%D0%BE%D0%B2')\n",
    "cities = df[1]['Город']\n",
    "cities = cities.replace('Воронеж[a]','Воронеж')\n",
    "cities = tuple(cities)\n",
    "display(cities)"
   ]
  },
  {
   "cell_type": "code",
   "execution_count": null,
   "metadata": {},
   "outputs": [],
   "source": [
    "query_5_7 = f'''\n",
    "      SELECT\n",
    "              a.name AS name,\n",
    "              COUNT(v.id) AS cnt_vacancies\n",
    "        FROM  vacancies v\n",
    "              JOIN areas a \n",
    "              ON v.area_id = a.id\n",
    "              \n",
    "              JOIN employers e \n",
    "              ON v.employer_id = e.id\n",
    "       WHERE  e.name = 'Яндекс'\n",
    "              AND a.name IN {cities}\n",
    "       GROUP  BY a.id\n",
    "\n",
    "       UNION  ALL\n",
    "\n",
    "       SELECT\n",
    "               'Total',\n",
    "               COUNT(v.id)\n",
    "        FROM  vacancies v\n",
    "              JOIN areas a \n",
    "              ON v.area_id = a.id\n",
    "              \n",
    "              JOIN employers e \n",
    "              ON v.employer_id = e.id\n",
    "       WHERE  e.name = 'Яндекс' \n",
    "              AND a.name IN {cities}\n",
    "       ORDER  BY 2\n",
    "'''"
   ]
  },
  {
   "cell_type": "code",
   "execution_count": null,
   "metadata": {},
   "outputs": [],
   "source": [
    "df = pd.read_sql_query(query_5_7, connection)\n",
    "display(df)"
   ]
  },
  {
   "cell_type": "markdown",
   "metadata": {},
   "source": [
    "***"
   ]
  },
  {
   "cell_type": "markdown",
   "metadata": {},
   "source": [
    "### Выводы:\n",
    "Проведя исследования данных о работодателях делаем вывод, что наибольшее количество вакансий предоставляют большие корпорации находящиеся на территории РФ. Основная часть вакансий сконцентрирована в сфере IT - технологий по самым различным сферам. Многие компании предлагают работу в городах-миллионниках."
   ]
  },
  {
   "cell_type": "markdown",
   "metadata": {},
   "source": [
    "# Юнит 6. Анализ работодателей"
   ]
  },
  {
   "cell_type": "markdown",
   "metadata": {},
   "source": [
    "1. Сколько вакансий имеет отношение к данным?\n",
    "\n",
    "Считаем, что вакансия имеет отношение к данным, если в её названии содержатся слова 'data' или 'данн'.\n",
    "\n",
    "*Подсказка: Обратите внимание, что названия вакансий могут быть написаны в любом регистре.*"
   ]
  },
  {
   "cell_type": "code",
   "execution_count": null,
   "metadata": {},
   "outputs": [],
   "source": [
    "query_6_1= f'''\n",
    "      SELECT \n",
    "              COUNT(name) AS cnt\n",
    "        FROM  vacancies\n",
    "       WHERE  name ILIKE '%data%'\n",
    "              OR name ILIKE '%данн%'\n",
    "'''"
   ]
  },
  {
   "cell_type": "code",
   "execution_count": null,
   "metadata": {},
   "outputs": [],
   "source": [
    "df = pd.read_sql_query(query_6_1, connection)\n",
    "display(df)"
   ]
  },
  {
   "cell_type": "markdown",
   "metadata": {},
   "source": [
    "2. Сколько есть подходящих вакансий для начинающего дата-сайентиста? \n",
    "Будем считать вакансиями для дата-сайентистов такие, в названии которых есть хотя бы одно из следующих сочетаний:\n",
    "* 'data scientist'\n",
    "* 'data science'\n",
    "* 'исследователь данных'\n",
    "* 'ML' (здесь не нужно брать вакансии по HTML)\n",
    "* 'machine learning'\n",
    "* 'машинн%обучен%'\n",
    "\n",
    "** В следующих заданиях мы продолжим работать с вакансиями по этому условию.*\n",
    "\n",
    "Считаем вакансиями для специалистов уровня Junior следующие:\n",
    "* в названии есть слово 'junior' *или*\n",
    "* требуемый опыт — Нет опыта *или*\n",
    "* тип трудоустройства — Стажировка."
   ]
  },
  {
   "cell_type": "code",
   "execution_count": null,
   "metadata": {},
   "outputs": [],
   "source": [
    "query_6_2 = f'''\n",
    "      SELECT \n",
    "              COUNT(id)\n",
    "        FROM  vacancies\n",
    "       WHERE  (name ILIKE '%data scientist%'\n",
    "              OR name ILIKE '%data science%'\n",
    "              OR name ILIKE '%исследователь данных%'\n",
    "              OR name ILIKE '%machine learning%'\n",
    "              OR name ILIKE '%машинн%обучен%'\n",
    "              OR name LIKE '%ML%')\n",
    "              AND name NOT LIKE '%HTML%'\n",
    "              AND (name ILIKE '%junior%'\n",
    "              OR employment = 'Стажировка'\n",
    "              OR experience = 'Нет опыта')\n",
    "'''"
   ]
  },
  {
   "cell_type": "code",
   "execution_count": null,
   "metadata": {},
   "outputs": [],
   "source": [
    "df = pd.read_sql_query(query_6_2, connection)\n",
    "display(df)"
   ]
  },
  {
   "cell_type": "markdown",
   "metadata": {},
   "source": [
    "3. Сколько есть вакансий для DS, в которых в качестве ключевого навыка указан SQL или postgres?\n",
    "\n",
    "** Критерии для отнесения вакансии к DS указаны в предыдущем задании.*"
   ]
  },
  {
   "cell_type": "code",
   "execution_count": null,
   "metadata": {},
   "outputs": [],
   "source": [
    "query_6_3 = f'''\n",
    "      SELECT \n",
    "              COUNT(id)\n",
    "        FROM  vacancies\n",
    "       WHERE  (name ILIKE '%data scientist%'\n",
    "              OR name ILIKE '%data science%'\n",
    "              OR name ILIKE '%исследователь данных%'\n",
    "              OR name ILIKE '%machine learning%'\n",
    "              OR name ILIKE '%машинн%обучен%'\n",
    "              OR name LIKE '%ML%')\n",
    "              AND name NOT LIKE '%HTML%'\n",
    "              AND (key_skills ilike '%SQL%'\n",
    "              OR key_skills = '%postgres%')\n",
    "'''"
   ]
  },
  {
   "cell_type": "code",
   "execution_count": null,
   "metadata": {},
   "outputs": [],
   "source": [
    "df = pd.read_sql_query(query_6_3, connection)\n",
    "display(df)"
   ]
  },
  {
   "cell_type": "markdown",
   "metadata": {},
   "source": [
    "4. Проверьте, насколько популярен Python в требованиях работодателей к DS.Для этого вычислите количество вакансий, в которых в качестве ключевого навыка указан Python.\n",
    "\n",
    "** Это можно сделать помощью запроса, аналогичного предыдущему.*"
   ]
  },
  {
   "cell_type": "code",
   "execution_count": null,
   "metadata": {},
   "outputs": [],
   "source": [
    "query_6_4 = f'''\n",
    "      SELECT \n",
    "              COUNT(id)\n",
    "        FROM  vacancies\n",
    "       WHERE  (name ILIKE '%data scientist%'\n",
    "              OR name ILIKE '%data science%'\n",
    "              OR name ILIKE '%исследователь данных%'\n",
    "              OR name ILIKE '%machine learning%'\n",
    "              OR name ILIKE '%машинн%обучен%'\n",
    "              OR name LIKE '%ML%')\n",
    "              AND name NOT LIKE '%HTML%'\n",
    "              AND key_skills ilike '%Python%'\n",
    "'''"
   ]
  },
  {
   "cell_type": "code",
   "execution_count": null,
   "metadata": {},
   "outputs": [],
   "source": [
    "df = pd.read_sql_query(query_6_4, connection)\n",
    "display(df)"
   ]
  },
  {
   "cell_type": "markdown",
   "metadata": {},
   "source": [
    "5. Сколько ключевых навыков в среднем указывают в вакансиях для DS?\n",
    "Ответ округлите до двух знаков после точки-разделителя."
   ]
  },
  {
   "cell_type": "code",
   "execution_count": null,
   "metadata": {},
   "outputs": [],
   "source": [
    "query_6_5 = f'''\n",
    "      SELECT \n",
    "              ROUND(AVG(LENGTH(key_skills)-LENGTH(REPLACE(key_skills,'\\t',''))+1),2) AS rnd_skill\n",
    "        FROM  vacancies\n",
    "       WHERE  (name ILIKE '%data scientist%'\n",
    "              OR name ILIKE '%data science%'\n",
    "              OR name ILIKE '%исследователь данных%'\n",
    "              OR name ILIKE '%machine learning%'\n",
    "              OR name ILIKE '%машинн%обучен%'\n",
    "              OR name LIKE '%ML%')\n",
    "              AND name NOT LIKE '%HTML%'\n",
    "              AND key_skills IS NOT NULL\n",
    "'''"
   ]
  },
  {
   "cell_type": "code",
   "execution_count": null,
   "metadata": {},
   "outputs": [],
   "source": [
    "df = pd.read_sql_query(query_6_5, connection)\n",
    "display(df)"
   ]
  },
  {
   "cell_type": "markdown",
   "metadata": {},
   "source": [
    "6. Напишите запрос, позволяющий вычислить, какую зарплату для DS в **среднем** указывают для каждого типа требуемого опыта (уникальное значение из поля *experience*). \n",
    "\n",
    "При решении задачи примите во внимание следующее:\n",
    "1. Рассматриваем только вакансии, у которых заполнено хотя бы одно из двух полей с зарплатой.\n",
    "2. Если заполнены оба поля с зарплатой, то считаем зарплату по каждой вакансии как сумму двух полей, делённую на 2. Если заполнено только одно из полей, то его и считаем зарплатой по вакансии.\n",
    "3. Если в расчётах участвует null, в результате он тоже даст null (посмотрите, что возвращает запрос select 1 + null). Чтобы избежать этой ситуацию, мы воспользуемся функцией [coalesce](https://postgrespro.ru/docs/postgresql/9.5/functions-conditional#functions-coalesce-nvl-ifnull), которая заменит null на значение, которое мы передадим. Например, посмотрите, что возвращает запрос `select 1 + coalesce(null, 0)`\n",
    "\n",
    "Выясните, на какую зарплату в среднем может рассчитывать дата-сайентист с опытом работы от 3 до 6 лет. Результат округлите до целого числа."
   ]
  },
  {
   "cell_type": "code",
   "execution_count": null,
   "metadata": {},
   "outputs": [],
   "source": [
    "query_6_6 = f'''\n",
    "      SELECT \n",
    "              experience,\n",
    "              ROUND(AVG(COALESCE((salary_from+salary_to)/2,salary_from,salary_to))) AS avg_salary\n",
    "        FROM  vacancies\n",
    "       WHERE  (name ILIKE '%data scientist%'\n",
    "              OR name ILIKE '%data science%'\n",
    "              OR name ILIKE '%исследователь данных%'\n",
    "              OR name ILIKE '%machine learning%'\n",
    "              OR name ILIKE '%машинн%обучен%'\n",
    "              OR name LIKE '%ML%')\n",
    "              AND name NOT LIKE '%HTML%'\n",
    "              AND (salary_from IS NOT NULL\n",
    "              OR salary_to IS NOT NULL)\n",
    "       GROUP  BY experience\n",
    "       ORDER  BY avg_salary\n",
    "'''"
   ]
  },
  {
   "cell_type": "code",
   "execution_count": null,
   "metadata": {},
   "outputs": [],
   "source": [
    "df = pd.read_sql_query(query_6_6, connection)\n",
    "display(df)"
   ]
  },
  {
   "cell_type": "markdown",
   "metadata": {},
   "source": [
    "***"
   ]
  },
  {
   "cell_type": "markdown",
   "metadata": {},
   "source": [
    "### Выводы:\n",
    "Предметно изучив информацию делаем вывод,что требуется огромное количество специалистов по работе с данными.\n",
    "Достаточно большой объем вакансий для начинающих специалистов по Data Science уровня Junior. Причем средний уровень заработной платы таких соискателей гораздо выше, чем средний по стране в других профессиях."
   ]
  },
  {
   "cell_type": "markdown",
   "metadata": {},
   "source": [
    "***"
   ]
  },
  {
   "cell_type": "markdown",
   "metadata": {},
   "source": [
    "#### Дополнительные исследования\n",
    "Создадим запрос, чтобы узнать  пятерку лидеров по количеству ключевых навыков,которые работодатель требует  в первую очередь."
   ]
  },
  {
   "cell_type": "code",
   "execution_count": null,
   "metadata": {},
   "outputs": [],
   "source": [
    "query_7_1 = f'''\n",
    "      SELECT \n",
    "              SPLIT_PART(key_skills,'\\t',1) AS skill,\n",
    "              COUNT(split_part(key_skills,'\\t',1))\n",
    "        FROM  vacancies \n",
    "       GROUP  BY skill\n",
    "       ORDER  BY 2 desc\n",
    "       LIMIT  5\n",
    "'''"
   ]
  },
  {
   "cell_type": "code",
   "execution_count": null,
   "metadata": {},
   "outputs": [],
   "source": [
    "df = pd.read_sql_query(query_7_1, connection)\n",
    "display(df)"
   ]
  },
  {
   "cell_type": "markdown",
   "metadata": {},
   "source": [
    "***"
   ]
  },
  {
   "cell_type": "markdown",
   "metadata": {},
   "source": [
    "# Общий вывод по проекту"
   ]
  },
  {
   "cell_type": "markdown",
   "metadata": {},
   "source": [
    "Исходы из вышеизложенного мы можемсделать следующие заключение. Рынок труда довольно огромен. Каждый желающий трудиться может найти работу. Вакансии представлены очень широким спектром сфер деятельности (промышленность, медицина, торговля, народное хозяйство и.т.д.) Наиболее популярным напрвлением в настоящее время являются информационные технологии, а именно Data Science. Из исследований в п. 7.1 мы видим, что первым ключевым навыком из всей массы вакансий работодатель ставит (SQL, Python, JavaScript, Английский язык, GIT). Из пяти первых SkillFactory включил в курс по DataScience три позиции. Значит мы находимся на правильном пути."
   ]
  }
 ],
 "metadata": {
  "kernelspec": {
   "display_name": "Python 3.8.10 64-bit",
   "language": "python",
   "name": "python3"
  },
  "language_info": {
   "name": "python",
   "version": "3.8.10"
  },
  "orig_nbformat": 4,
  "vscode": {
   "interpreter": {
    "hash": "f544ce1a915a9875fad91c894e2c0bcad4b7a79945aa6027ef3ad27810072aa6"
   }
  }
 },
 "nbformat": 4,
 "nbformat_minor": 2
}
