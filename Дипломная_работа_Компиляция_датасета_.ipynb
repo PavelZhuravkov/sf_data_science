{
  "cells": [
    {
      "cell_type": "markdown",
      "metadata": {
        "id": "view-in-github",
        "colab_type": "text"
      },
      "source": [
        "<a href=\"https://colab.research.google.com/github/PavelZhuravkov/sf_data_science/blob/main/%D0%94%D0%B8%D0%BF%D0%BB%D0%BE%D0%BC%D0%BD%D0%B0%D1%8F_%D1%80%D0%B0%D0%B1%D0%BE%D1%82%D0%B0_%D0%9A%D0%BE%D0%BC%D0%BF%D0%B8%D0%BB%D1%8F%D1%86%D0%B8%D1%8F_%D0%B4%D0%B0%D1%82%D0%B0%D1%81%D0%B5%D1%82%D0%B0_.ipynb\" target=\"_parent\"><img src=\"https://colab.research.google.com/assets/colab-badge.svg\" alt=\"Open In Colab\"/></a>"
      ]
    },
    {
      "cell_type": "markdown",
      "metadata": {
        "id": "XtowN2VrwiLX"
      },
      "source": [
        "#<center>ОПРЕДЕЛЕНИЕ УЯЗВИМЫХ ГРУПП НАСЕЛЕНИЯ </center>"
      ]
    },
    {
      "cell_type": "markdown",
      "metadata": {
        "id": "lOFHOYuTxXwl"
      },
      "source": [
        "![ 'fjf'](https://nacto.org/wp-content/uploads/2016/04/Universal-Design-02.jpg)"
      ]
    },
    {
      "cell_type": "code",
      "execution_count": null,
      "metadata": {
        "id": "cYbih5YHy95N"
      },
      "outputs": [],
      "source": [
        "import numpy as np\n",
        "import pandas as pd\n",
        "import pickle as pkl\n",
        "import re"
      ]
    },
    {
      "cell_type": "markdown",
      "metadata": {
        "id": "yYgmN7ts7FE0"
      },
      "source": [
        "##Данные для исследованй взяты из открытых источников. Основным поставщиком сведений является государственное статистическое ведомство \" РОССТАТ\".\n",
        "##Выборки будем делать исходя из самой свежей и полной информации,на сегодняшний день, а именно за 2022 год."
      ]
    },
    {
      "cell_type": "markdown",
      "metadata": {
        "id": "39Qz9G999XsW"
      },
      "source": [
        "Не всегда один и тот же регион пишется одинаково в разных датасетах.\n",
        "Такое очень часто происходит с написаниями регионов РФ в разных\n",
        "документах. Это\n",
        "необходимо учитывать при объединении датасетов.\n",
        "\n",
        "Особенностью Тюменской области является то, что в её состав входят\n",
        "два других субъекта Российской Федерации: Ханты-Мансийский\n",
        "автономный округ — Югра и Ямало-Ненецкий автономный округ. При\n",
        "этом чаще всего в датасетах указывается отдельно Тюменская область\n",
        "и отдельно — без учёта автономных округов.\n",
        "То же самое касается Архангельской области — в её состав входит\n",
        "самостоятельный субъект Ненецкий автономный округ. Способы\n",
        "написания такие же, как с Тюменской областью."
      ]
    },
    {
      "cell_type": "code",
      "execution_count": null,
      "metadata": {
        "id": "vRb9HQQFu6i2"
      },
      "outputs": [],
      "source": [
        "import warnings\n",
        "warnings.filterwarnings(\"ignore\")"
      ]
    },
    {
      "cell_type": "code",
      "source": [
        "# Десериализуем pipeline из файла\n",
        "with open('/content/data/regions_rf.pkl', 'rb') as pkl_file:\n",
        "    regions_rf = pkl.load(pkl_file)"
      ],
      "metadata": {
        "id": "jKJRgxOLM5BX"
      },
      "execution_count": null,
      "outputs": []
    },
    {
      "cell_type": "code",
      "execution_count": null,
      "metadata": {
        "id": "Mb-qvwGB-5Mx"
      },
      "outputs": [],
      "source": [
        "def get_region(arg):\n",
        "  \"\"\" Функция для получения стандартных названий регионов РФ \"\"\"\n",
        "  for key, value in regions_rf.items():\n",
        "    if re.search(key, arg):\n",
        "        return value"
      ]
    },
    {
      "cell_type": "code",
      "source": [],
      "metadata": {
        "id": "fD1sCkqenRu6"
      },
      "execution_count": null,
      "outputs": []
    },
    {
      "cell_type": "code",
      "execution_count": null,
      "metadata": {
        "id": "kO5btZ7oGBJR"
      },
      "outputs": [],
      "source": [
        "double_region = ['Архангельская область', 'Тюменская область'] # Список дублированных областей с учетом автономных округов"
      ]
    },
    {
      "cell_type": "code",
      "execution_count": null,
      "metadata": {
        "id": "1NWFrcCYEMKH"
      },
      "outputs": [],
      "source": [
        "def get_data(df):\n",
        "  \"\"\" Функция для получения датасета \"\"\"\n",
        "  df = df.dropna(inplace = False).reset_index(drop = True) # Убираем значения nan\n",
        "  df['region'] = df['region'].apply(lambda x: x.strip()) # Убираем лишние пробелы\n",
        "  df = df[df['region'].isin (double_region) == False ] # Убираем дублтрованные области\n",
        "  df['region'] = df['region'].apply(lambda x: x.lower()) # Переходим в нижний регистр\n",
        "  df['region'] = df['region'].apply(lambda x: re.sub(r\"\\(.*\\)\", \"\", x)) # Убираем то, что в скобках\n",
        "  df['region'] = df['region'].apply(get_region) # Запускаем функцию стандартных названий регионов\n",
        "  df = df.dropna(inplace = False).reset_index(drop = True) # Избавляемся от значений None\n",
        "  df = df.sort_values('region').reset_index(drop =True) # Сортируем по алфавиту датасет\n",
        "  return df"
      ]
    },
    {
      "cell_type": "markdown",
      "metadata": {
        "id": "VS-PuC5jARnm"
      },
      "source": [
        "#1.  Подготовка данных к объединению сводного DataFrame."
      ]
    },
    {
      "cell_type": "markdown",
      "metadata": {
        "id": "aMsBMyfdAqbj"
      },
      "source": [
        "##1.0 Среднедушевые денежные доходы населения по субъектам Российской федерации, руб./месяц"
      ]
    },
    {
      "cell_type": "markdown",
      "metadata": {
        "id": "AGb9M5TEIGXE"
      },
      "source": [
        "Данные взяты на ресурсе \" РОССТАТ\""
      ]
    },
    {
      "cell_type": "markdown",
      "metadata": {
        "id": "iRLVCeFyBLC0"
      },
      "source": [
        "Nominal_income - Номинальный доход на душу населения."
      ]
    },
    {
      "cell_type": "code",
      "execution_count": null,
      "metadata": {
        "id": "WcphkZrJIVo1"
      },
      "outputs": [],
      "source": [
        "df_0= pd.read_excel('/content/data/Urov_10subg-nm.xlsx') # Читаем датафрейм и переименовываем признаки за 2022 год\n",
        "df_0 = df_0.rename(columns = {'Среднедушевые денежные доходы населения по субъектам \\nРоссийской федерации, руб./месяц *': 'region', 'Unnamed: 50':'nominal_income'})\n",
        "df_0 = df_0[['region', 'nominal_income']]\n",
        "df_0 = get_data(df_0)\n",
        "total_df = df_0"
      ]
    },
    {
      "cell_type": "markdown",
      "metadata": {
        "id": "vw_v91viJd-h"
      },
      "source": [
        "#1.1  Реальные денежные доходы населения по субъектам Российской федерации,%"
      ]
    },
    {
      "cell_type": "markdown",
      "metadata": {
        "id": "NYDmWfRlKE_-"
      },
      "source": [
        "Данные взяты на ресурсе \" РОССТАТ\""
      ]
    },
    {
      "cell_type": "markdown",
      "metadata": {
        "id": "EenXAThoKGZ1"
      },
      "source": [
        "real_income - реальные денежные доходы населения по субъектам РФ"
      ]
    },
    {
      "cell_type": "code",
      "execution_count": null,
      "metadata": {
        "id": "m86MTm9JJA22"
      },
      "outputs": [],
      "source": [
        "df_1 = pd.read_excel('/content/data/Urov_11subg-nm.xlsx')\n",
        "df_1 = df_1.rename(columns = {'Unnamed: 45': 'real_income'})\n",
        "df_1 = df_1[['region', 'real_income']]\n",
        "df_1 = get_data(df_1)\n",
        "total_df = total_df.merge(df_1, on = 'region', how = 'left')"
      ]
    },
    {
      "cell_type": "markdown",
      "metadata": {
        "id": "wnHV7G48WzR_"
      },
      "source": [
        "##1.2 Среднемесячная номинальная начисленная заработная плата работников по полному кругу организаций по субъектам Российской Федерации за 12 месяцев 2022 года, рублей"
      ]
    },
    {
      "cell_type": "markdown",
      "metadata": {
        "id": "s-hJBlGiY_6I"
      },
      "source": [
        "Данные взяты на ресурсе \" РОССТАТ\""
      ]
    },
    {
      "cell_type": "markdown",
      "metadata": {
        "id": "oUWoXocBZQYV"
      },
      "source": [
        "avg_salary - Среднемесячная номинальная начисленная заработная плата работников по полному кругу организаций по субъектам Российской Федерации с 2019 года, рублей'"
      ]
    },
    {
      "cell_type": "code",
      "execution_count": null,
      "metadata": {
        "id": "aerx0DpeJxkG"
      },
      "outputs": [],
      "source": [
        "df_2 = pd.read_excel('/content/data/tab2-zpl_07-2023.xlsx')\n",
        "df_2 = df_2[df_2['region'].isin (double_region) == False] # Удаляем строки с Архангельской и Тюменской областями, которые вместе с округами\n",
        "df_2.drop(df_2.iloc [:, 1:36], axis =1, inplace =True) # Оставляем признаки за 12 месяцев 2022 года.\n",
        "df_2.drop(df_2.iloc[:, 13:26], axis = 1, inplace =True) # Удаляем признаки с данными за часть 2023 года.\n",
        "df_2 = get_data(df_2)\n",
        "df_2['avg_salary'] = round(df_2.iloc[:, 1:12].mean(axis =1)) # Находим среднюю зарплату по году.\n",
        "df_2 = df_2[['region', 'avg_salary']]\n",
        "total_df = total_df.merge(df_2, on = 'region', how ='left')"
      ]
    },
    {
      "cell_type": "markdown",
      "metadata": {
        "id": "AzmQPmnVZ44U"
      },
      "source": [
        "#1.3 Реальная начисленная заработная плата работников по полному кругу организаций по субъектам Российской Федерации за 12 месяцев 2022 года, %"
      ]
    },
    {
      "cell_type": "markdown",
      "metadata": {
        "id": "5nQTXNP0amO9"
      },
      "source": [
        "Данные взяты на ресурсе \" РОССТАТ\""
      ]
    },
    {
      "cell_type": "markdown",
      "metadata": {
        "id": "rm1iBr0TangC"
      },
      "source": [
        "real_avg_salary - Реальная начисленная заработная плата работников по полному кругу организаций по субъектам Российской Федерации за 12 месяцев 2022 года, %"
      ]
    },
    {
      "cell_type": "code",
      "execution_count": null,
      "metadata": {
        "id": "EKKBuyZ5K4Sv"
      },
      "outputs": [],
      "source": [
        "df_3 = pd.read_excel('/content/data/tab5-zpl_2022.xlsx')\n",
        "df_3 = df_3[['region', 'Unnamed: 5']].rename(columns= {'Unnamed: 5': 'real_avg_salary'})\n",
        "df_3 = get_data(df_3)\n",
        "total_df = total_df.merge(df_3, on = 'region', how ='left')"
      ]
    },
    {
      "cell_type": "markdown",
      "metadata": {
        "id": "mjf0E7oP7dHc"
      },
      "source": [
        "#1.4 Детская смертность по субъектам РФ"
      ]
    },
    {
      "cell_type": "markdown",
      "metadata": {
        "id": "_49PLGkQqinC"
      },
      "source": [
        "Данные взяты на ресурсе \" РОССТАТ\"."
      ]
    },
    {
      "cell_type": "markdown",
      "metadata": {
        "id": "PCJFpsWl76mw"
      },
      "source": [
        "infant_moratality - Число детей, умерших в возрасте до 1 года"
      ]
    },
    {
      "cell_type": "markdown",
      "metadata": {
        "id": "42_sCGGOC5jq"
      },
      "source": [
        "infant_mortality_per_1000 - Число детей, умерших в возрасте до 1 года на 1000 родившихся."
      ]
    },
    {
      "cell_type": "code",
      "execution_count": null,
      "metadata": {
        "id": "BSZWgyyALxoH"
      },
      "outputs": [],
      "source": [
        "df_4 = pd.read_excel('/content/data/Edn_06-2023_t2.xlsx')\n",
        "df_4 = df_4.rename(columns= {'Unnamed: 2': 'infant_mortality', 'Unnamed: 6': 'infant_mortality_per_1000'})\n",
        "df_4 = df_4[['region', 'infant_mortality', 'infant_mortality_per_1000']]\n",
        "df_4['region'] = df_4['region'].replace({'Hижегородская область': 'Нижегородская область', 'Hенецкий авт.округ': 'Ненецкий авт.округ'})\n",
        "df_4 = get_data(df_4)\n",
        "total_df = total_df.merge(df_4, on = 'region', how ='left')"
      ]
    },
    {
      "cell_type": "markdown",
      "metadata": {
        "id": "fN4lfaJpmr4B"
      },
      "source": [
        "#1.5 Число людей с инвалидностью\n",
        "#по регионам, без учета детей-инвалидов на 01.01.2023 год."
      ]
    },
    {
      "cell_type": "markdown",
      "metadata": {
        "id": "bINDkF346Y3C"
      },
      "source": [
        "Данные взяты на ресурсе \" РОССТАТ\""
      ]
    },
    {
      "cell_type": "markdown",
      "metadata": {
        "id": "3QnfmbdFmr2h"
      },
      "source": [
        "disabled - Число людей с инвалидностью\n",
        "по регионам, без учета детей-инвалидов"
      ]
    },
    {
      "cell_type": "code",
      "execution_count": null,
      "metadata": {
        "id": "cDVkCAAkOcBA"
      },
      "outputs": [],
      "source": [
        "df_5 = pd.read_excel('/content/data/pi_1.3.xlsx')\n",
        "df_5 = df_5.rename(columns = {'Unnamed: 2': 'disabled'})\n",
        "df_5 = df_5[['region', 'disabled']]\n",
        "df_5 =get_data(df_5)\n",
        "total_df = total_df.merge(df_5, on = 'region', how ='left')"
      ]
    },
    {
      "cell_type": "markdown",
      "metadata": {
        "id": "to0lDHG7DwBC"
      },
      "source": [
        "#1.6  Заболеваемость на 100 тыс.\n",
        "#человек населения, по возрастным группам и группам заболеваний"
      ]
    },
    {
      "cell_type": "markdown",
      "metadata": {
        "id": "GIt8PSwuT-uT"
      },
      "source": [
        "child_pregnancy - Детская беременность."
      ]
    },
    {
      "cell_type": "markdown",
      "metadata": {
        "id": "5IgmwqxYUfEn"
      },
      "source": [
        "congenital_anomalies - Врожденные аномалии (пороки развития), деформации и хромосомные нарушения."
      ]
    },
    {
      "cell_type": "markdown",
      "metadata": {
        "id": "FfveABjVU0MO"
      },
      "source": [
        "all_deseases - Все заболевания.\n",
        "\n"
      ]
    },
    {
      "cell_type": "markdown",
      "metadata": {
        "id": "3kgMT4KhVGun"
      },
      "source": [
        "neoplasms -Новообразования."
      ]
    },
    {
      "cell_type": "markdown",
      "metadata": {
        "id": "bzkkACRdVdjw"
      },
      "source": [
        "mental_disorders -Психические расстройства и расстройства поведения."
      ]
    },
    {
      "cell_type": "code",
      "execution_count": null,
      "metadata": {
        "id": "s2CNcpMeQ9Ic"
      },
      "outputs": [],
      "source": [
        "df_6 = pd.read_excel('/content/data/morbidity_2005_2020_age_disease.xls')\n",
        "df_6 = df_6.rename(columns = {'Заболеваемость с диагнозом, установленным впервые в жизни, проживающих в районе обслуживания лечебного учреждения, на 100 тыс.человек населения (человек, на 1 января)':'region', 'Unnamed: 1': 'ind',\t'Unnamed: 14': '2016'})\n",
        "df_pregnans = df_6[(df_6['ind'] == 'Беременность, роды и послеродовой период') & (df_6['Unnamed: 2'] == '0-14 лет')] # Оставляем только детскую беременность\n",
        "df_pregnans = df_pregnans[['region', 'ind', '2016']]\n",
        "df_pregnans = get_data(df_pregnans)\n",
        "df_pregnans = df_pregnans.pivot_table(values = '2016', index = 'region', columns = 'ind')\n",
        "df_pregnans = df_pregnans.reset_index()\n",
        "\n",
        "df_6 = df_6[df_6['Unnamed: 2'] == 'Всего']\n",
        "df_6 = df_6[['region', 'ind', '2016']]\n",
        "df_6 = df_6.pivot_table(values = '2016', index = 'region', columns = 'ind')\n",
        "df_6 = df_6.reset_index()\n",
        "df_6 = get_data(df_6)\n",
        "df_6 = df_6.sort_values('region').drop(['Беременность, роды и послеродовой период'], axis =1).reset_index(drop =True)\n",
        "df_6 = df_pregnans.merge(df_6, on = 'region', how = 'inner')\n",
        "df_6 = df_6.rename(columns ={'Беременность, роды и послеродовой период': 'child_pregnancy',\n",
        "                             'Врожденные аномалии (пороки развития), деформации и хромосомные нарушения': 'congenital_anomalies',\n",
        "                             'Все заболевания': 'all_deseases',\n",
        "                             'Новообразования': 'neoplasms',\n",
        "                             'Психические расстройства и расстройства поведения': 'mental_disorders'})\n",
        "df_6 = df_6[['region', 'child_pregnancy', 'congenital_anomalies', 'neoplasms', 'mental_disorders', 'all_deseases']]\n",
        "total_df = total_df.merge(df_6, on = 'region', how ='left')"
      ]
    },
    {
      "cell_type": "markdown",
      "metadata": {
        "id": "rPF9UEuwbjvO"
      },
      "source": [
        "#1.7 Процент населения с доходами ниже прожиточного минимуиа( черта бедности) по субъектам РФ, %\n"
      ]
    },
    {
      "cell_type": "markdown",
      "metadata": {
        "id": "t-TuCv2l6eMv"
      },
      "source": [
        "Данные взяты на ресурсе \" РОССТАТ\""
      ]
    },
    {
      "cell_type": "markdown",
      "metadata": {
        "id": "CssHggr4btKY"
      },
      "source": [
        "percent_poverty - Процент населения с доходами ниже прожиточного минимуиа( черта бедности) по субъектам РФ, %"
      ]
    },
    {
      "cell_type": "code",
      "execution_count": null,
      "metadata": {
        "id": "nnFRuz-VRbjt"
      },
      "outputs": [],
      "source": [
        "df_7 = pd.read_excel('/content/data/tab2-6.xlsx')\n",
        "df_7['percent_poverty'] = df_7['Unnamed: 2'] + df_7['Unnamed: 3']\n",
        "df_7 = df_7[['region', 'percent_poverty']]\n",
        "df_7 = get_data(df_7)\n",
        "total_df = total_df.merge(df_7, on = 'region', how ='left')"
      ]
    },
    {
      "cell_type": "markdown",
      "metadata": {
        "id": "BYwx_w8qNJJY"
      },
      "source": [
        "#1.8 ОБЩАЯ ЧИСЛЕННОСТЬ НАСЕЛЕНИЯ ПО ОСНОВНЫМ ВОЗРАСТНЫМ ГРУППАМ\n",
        "#ПО СУБЪЕКТАМ РОССИЙСКОЙ ФЕДЕРАЦИИ\n",
        "#в среднем за 2022 г."
      ]
    },
    {
      "cell_type": "markdown",
      "metadata": {
        "id": "UL9DQKRT6f_1"
      },
      "source": [
        "Данные взяты на ресурсе \" РОССТАТ\""
      ]
    },
    {
      "cell_type": "markdown",
      "metadata": {
        "id": "89I2TK27NgxV"
      },
      "source": [
        "population - все наседение\n"
      ]
    },
    {
      "cell_type": "markdown",
      "metadata": {
        "id": "OQW9ub7pN_ZR"
      },
      "source": [
        "population_childs - население модоже трудоспособного возраста\n"
      ]
    },
    {
      "cell_type": "markdown",
      "metadata": {
        "id": "qqORiBx_OCWu"
      },
      "source": [
        "population_employmens - трудоспособное население"
      ]
    },
    {
      "cell_type": "markdown",
      "metadata": {
        "id": "axpBHtJVbBKc"
      },
      "source": [
        "population_retired - население старше трудоспособного возраста"
      ]
    },
    {
      "cell_type": "code",
      "execution_count": null,
      "metadata": {
        "id": "P2yD2R03X-t1"
      },
      "outputs": [],
      "source": [
        "df_8 = pd.read_excel('/content/data/Население  по регионам РФ по возрастам 2022.xlsx')\n",
        "df_8 = df_8.rename(columns = {'Unnamed: 1': 'population', 'Unnamed: 4': 'population_childs', 'Unnamed: 7': 'population_employmens', 'Unnamed: 10': 'population_retired'})\n",
        "df_8 = df_8[['region', 'population', 'population_childs', 'population_employmens', 'population_retired']]\n",
        "df_8 = get_data(df_8)\n",
        "total_df = total_df.merge(df_8, on = 'region', how ='left')"
      ]
    },
    {
      "cell_type": "markdown",
      "metadata": {
        "id": "33w657_YRGua"
      },
      "source": [
        "#1.9 Xарактеристика жилищных условий домохозяйств за 2022 год.\n"
      ]
    },
    {
      "cell_type": "markdown",
      "metadata": {
        "id": "uO9tUKQL6ix9"
      },
      "source": [
        "Данные взяты на ресурсе \" РОССТАТ\""
      ]
    },
    {
      "cell_type": "markdown",
      "metadata": {
        "id": "SP07k0mUWfcP"
      },
      "source": [
        "total_living_square_one_persone - Общая площадь жилых помещений, приходящаяся в среднем на одного жителя, м2"
      ]
    },
    {
      "cell_type": "code",
      "execution_count": null,
      "metadata": {
        "id": "4T3QoK5ibirC"
      },
      "outputs": [],
      "source": [
        "df_9 = pd.read_excel('/content/data/jil_fond_2020-2022.xls')\n",
        "df_9 = df_9.rename(columns = {'Unnamed: 4': 'total_living_square_one_persone'})\n",
        "df_9 = df_9[['region', 'total_living_square_one_persone']]\n",
        "df_9 = get_data(df_9)\n",
        "total_df = total_df.merge(df_9, on = 'region', how ='left')"
      ]
    },
    {
      "cell_type": "markdown",
      "metadata": {
        "id": "f4PMp6Fv0JqJ"
      },
      "source": [
        "#1.10 Дети"
      ]
    },
    {
      "cell_type": "markdown",
      "metadata": {
        "id": "r0TxRqoW1fz8"
      },
      "source": [
        "Данные взяты с портала \"Если быть точным\"."
      ]
    },
    {
      "cell_type": "markdown",
      "metadata": {
        "id": "mzC4hUoN0k1s"
      },
      "source": [
        "poor_family - Малоимущие семьи с детьми, %"
      ]
    },
    {
      "cell_type": "markdown",
      "metadata": {
        "id": "F8-7FWwe0pFN"
      },
      "source": [
        "disabled_children - Дети с инвалидностью, %"
      ]
    },
    {
      "cell_type": "markdown",
      "metadata": {
        "id": "CToBv8xq0xK5"
      },
      "source": [
        "orphans - Дети, родители к-рых лишены / ограничены в родительских правах, чел/10000"
      ]
    },
    {
      "cell_type": "code",
      "execution_count": null,
      "metadata": {
        "id": "wmc3_9Vxz0VJ"
      },
      "outputs": [],
      "source": [
        "df_10 = pd.read_excel('/content/data/report_childhood_2020.xlsx')\n",
        "df_10 = df_10.rename(columns = {'Unnamed: 1': 'region','Unnamed: 2': 'poor_family', 'Unnamed: 3': 'disabled_children', 'Unnamed: 4': 'orphans'})\n",
        "df_10 = df_10[['region', 'poor_family', 'disabled_children', 'orphans']]\n",
        "df_10 = get_data(df_10)\n",
        "total_df = total_df.merge(df_10, on = 'region', how ='left')"
      ]
    },
    {
      "cell_type": "markdown",
      "metadata": {
        "id": "Z6cwkfCSbvuB"
      },
      "source": [
        "#1.11 Предоставление гражданам жилых помещений по субъектам Российской Федерации за 2022 г."
      ]
    },
    {
      "cell_type": "markdown",
      "metadata": {
        "id": "4CZ8nSVk6mwc"
      },
      "source": [
        "Данные взяты на ресурсе \" РОССТАТ\""
      ]
    },
    {
      "cell_type": "markdown",
      "metadata": {
        "id": "KR6LTOM4cS0e"
      },
      "source": [
        "family_need_housing - Число семей, состоящих на учете в качестве нуждающихся в жилых помещениях на конец отчетного года , единиц"
      ]
    },
    {
      "cell_type": "markdown",
      "metadata": {
        "id": "L2FALQBscgnL"
      },
      "source": [
        "family_got_housing - Число семей получивших жилые помещения и улучшивших жилищные условия, единиц"
      ]
    },
    {
      "cell_type": "markdown",
      "metadata": {
        "id": "Z46aIYb8cp3v"
      },
      "source": [
        "specific_gravity_family - Удельный вес числа семей, получивших жилые помещения, в числе семей, состоящих на учете в качестве нуждающихся в жилых помещениях на конец прошлого года, в %"
      ]
    },
    {
      "cell_type": "code",
      "execution_count": null,
      "metadata": {
        "id": "WEMbXz5UefhI"
      },
      "outputs": [],
      "source": [
        "df_11 = pd.read_excel('/content/data/Pred_jilpom_2020-2022.xls')\n",
        "df_11 = df_11.rename(columns = {'Unnamed: 2': 'family_need_housing', 'Unnamed: 3': 'family_got_housing', 'Unnamed: 4': 'specific_gravity_family'})\n",
        "df_11 = df_11.drop('Unnamed: 1', axis =1)\n",
        "df_11 = get_data(df_11)\n",
        "total_df = total_df.merge(df_11, on = 'region', how ='left')"
      ]
    },
    {
      "cell_type": "markdown",
      "metadata": {
        "id": "D3-zj1V7gJdh"
      },
      "source": [
        "#1.12 Количество семей, получивших жилое помещение по договорам социального найма в 2022 году, тыс. семей"
      ]
    },
    {
      "cell_type": "markdown",
      "metadata": {
        "id": "cyixmz-V6och"
      },
      "source": [
        "Данные взяты на ресурсе \" РОССТАТ\""
      ]
    },
    {
      "cell_type": "markdown",
      "metadata": {
        "id": "i9fvKHaXgQmf"
      },
      "source": [
        "social_housing_hiring - Количество семей, получивших жилое помещение по договорам социального найма, тыс. семей"
      ]
    },
    {
      "cell_type": "code",
      "execution_count": null,
      "metadata": {
        "id": "k4-mnuVse_o1"
      },
      "outputs": [],
      "source": [
        "df_12 = pd.read_excel('/content/data/pred_jilpom_socnaym_08-2023.xlsx')\n",
        "df_12 = df_12.rename(columns = {'Unnamed: 23': 'social_housing_hiring'})\n",
        "df_12 = df_12[['region', 'social_housing_hiring']]\n",
        "df_12 = get_data(df_12)\n",
        "total_df = total_df.merge(df_12, on = 'region', how ='left')"
      ]
    },
    {
      "cell_type": "markdown",
      "metadata": {
        "id": "k3VaxsfvmLEc"
      },
      "source": [
        "#1.13  Сведения о заболеваемости ВИЧ, на 10\n",
        "#тыс. обследованных за 2022 год."
      ]
    },
    {
      "cell_type": "markdown",
      "metadata": {
        "id": "Sz8E7j6S5-iX"
      },
      "source": [
        "Данные взяты с портала \"Если быть точным\"."
      ]
    },
    {
      "cell_type": "markdown",
      "metadata": {
        "id": "MJTPBhuRvA08"
      },
      "source": [
        "hiv_patient - Выявлено на 10 тыс. обследованных"
      ]
    },
    {
      "cell_type": "code",
      "execution_count": null,
      "metadata": {
        "id": "pwT9zO25fNED"
      },
      "outputs": [],
      "source": [
        "df_13 = pd.read_excel('/content/data/report_hiv_2022.xlsx')\n",
        "df_13 = df_13.rename(columns = {'Unnamed: 1': 'region', 'Unnamed: 3': 'hiv_patient'})\n",
        "df_13 = df_13[['region', 'hiv_patient']]\n",
        "df_13 =get_data(df_13)\n",
        "total_df = total_df.merge(df_13, on = 'region', how ='left')"
      ]
    },
    {
      "cell_type": "markdown",
      "metadata": {
        "id": "kdQuuRb10SFU"
      },
      "source": [
        "#1.14 Алкоголизм и наркомания данные за 2019 год."
      ]
    },
    {
      "cell_type": "markdown",
      "metadata": {
        "id": "NHYAEVbl6KWG"
      },
      "source": [
        "Данные взяты с портала \"Если быть точным\"."
      ]
    },
    {
      "cell_type": "markdown",
      "metadata": {
        "id": "AWEqaFoX1_gX"
      },
      "source": [
        "alcohol_consumption - Потребление алкоголя на 1 человека 15+, литр/душу"
      ]
    },
    {
      "cell_type": "markdown",
      "metadata": {
        "id": "p48tJ-qD2yRI"
      },
      "source": [
        "drug_addiction - Общая заболеваемость (наркотики), на 100 тыс. населения."
      ]
    },
    {
      "cell_type": "code",
      "execution_count": null,
      "metadata": {
        "id": "daLAERyCf0-N"
      },
      "outputs": [],
      "source": [
        "df_14 = pd.read_excel('/content/data/report_alkogolizm_i_narkomaniya_2019.xlsx')\n",
        "df_14 = df_14.rename(columns ={'Unnamed: 1': 'region', 'Unnamed: 2': 'alcohol_consumption', 'Unnamed: 4': 'drug_addiction'})\n",
        "df_14 = df_14[['region', 'alcohol_consumption', 'drug_addiction']]\n",
        "df_14 = get_data(df_14)\n",
        "total_df = total_df.merge(df_14, on = 'region', how ='left')"
      ]
    },
    {
      "cell_type": "markdown",
      "metadata": {
        "id": "AZ9bfx1u7ejF"
      },
      "source": [
        "#1.15  Рождённые в этом месяце, по регионам, без\n",
        "#учёта мертворождённых за 2022 год"
      ]
    },
    {
      "cell_type": "markdown",
      "metadata": {
        "id": "F2hO7YZ3LVps"
      },
      "source": [
        "count_newborn - количество новорожденных"
      ]
    },
    {
      "cell_type": "markdown",
      "metadata": {
        "id": "bYxyBdOPLoE4"
      },
      "source": [
        "count_newborn_per_1000 - количество новорожденных на 1000 населения."
      ]
    },
    {
      "cell_type": "code",
      "execution_count": null,
      "metadata": {
        "id": "z6cCic7egGqx"
      },
      "outputs": [],
      "source": [
        "df_15 = pd.read_excel('/content/data/EDN_2022.xlsx')\n",
        "df_15 = df_15.rename(columns ={'Unnamed: 1': 'count_newborn', 'Unnamed: 4': 'count_newborn_per_1000'})\n",
        "df_15 = df_15[['region', 'count_newborn', 'count_newborn_per_1000']]\n",
        "df_15 = get_data(df_15)\n",
        "total_df = total_df.merge(df_15, on = 'region', how ='left')"
      ]
    },
    {
      "cell_type": "markdown",
      "metadata": {
        "id": "tnRj5AZknpVp"
      },
      "source": [
        "#1.16 Распределение малоимущего населения по социально-демографическим группам за 2020 год, %"
      ]
    },
    {
      "cell_type": "markdown",
      "metadata": {
        "id": "VUieUM40nv3o"
      },
      "source": [
        "childrens  - Дети в возрасте до 16 лет"
      ]
    },
    {
      "cell_type": "markdown",
      "metadata": {
        "id": "PE2BKHUboGpF"
      },
      "source": [
        "pensioners - Население старше трудоспособного возраста\n"
      ]
    },
    {
      "cell_type": "markdown",
      "metadata": {
        "id": "oUhWf9RmoR2M"
      },
      "source": [
        "employmens - Население трудоспособного возраста"
      ]
    },
    {
      "cell_type": "code",
      "execution_count": null,
      "metadata": {
        "id": "cBiej6brhoLB"
      },
      "outputs": [],
      "source": [
        "df_2020 = pd.read_excel('/content/data/poverty_socdem_2020.xls') # Прочитаем представленные данные\n",
        "df_2019 = pd.read_excel('/content/data/poverty_socdem_2019.xls')\n",
        "df_2018 = pd.read_excel('/content/data/poverty_socdem_2018.xls')\n",
        "df_2017 = pd.read_excel('/content/data/poverty_socdem_2017.xls')"
      ]
    },
    {
      "cell_type": "code",
      "execution_count": null,
      "metadata": {
        "id": "NGuZhGLKx7_9"
      },
      "outputs": [],
      "source": [
        "def rename_columns(df): # Функция для переименования признаков и удаления ненужных.\n",
        "  df = df.rename(columns = {'Unnamed: 2': 'childrens', 'Unnamed: 3': 'pensioners', 'Unnamed: 4': 'employmens'})\n",
        "  df = df[['region', 'childrens', 'pensioners', 'employmens']]\n",
        "  return df"
      ]
    },
    {
      "cell_type": "code",
      "execution_count": null,
      "metadata": {
        "id": "QWA9Ri4DrjW5"
      },
      "outputs": [],
      "source": [
        "df_2020 = rename_columns(df_2020)\n",
        "df_2019 = rename_columns(df_2019)\n",
        "df_2018 = rename_columns(df_2018)\n",
        "df_2017 = rename_columns(df_2017)\n",
        "df_16 = df_2020"
      ]
    },
    {
      "cell_type": "code",
      "execution_count": null,
      "metadata": {
        "colab": {
          "base_uri": "https://localhost:8080/"
        },
        "id": "J686gS9W0yU5",
        "outputId": "b52d0498-3ea8-4cf7-bf6f-ef5767c21e16"
      },
      "outputs": [
        {
          "output_type": "execute_result",
          "data": {
            "text/plain": [
              "region         2\n",
              "childrens     13\n",
              "pensioners    13\n",
              "employmens    13\n",
              "dtype: int64"
            ]
          },
          "metadata": {},
          "execution_count": 26
        }
      ],
      "source": [
        "df_16.isnull().sum() # Проверяем количество нулевых значений"
      ]
    },
    {
      "cell_type": "code",
      "execution_count": null,
      "metadata": {
        "colab": {
          "base_uri": "https://localhost:8080/"
        },
        "id": "AbCRO-3_mwQU",
        "outputId": "138c5948-5715-4263-e6d6-63f22bc17d09"
      },
      "outputs": [
        {
          "output_type": "execute_result",
          "data": {
            "text/plain": [
              "region        2\n",
              "childrens     1\n",
              "pensioners    1\n",
              "employmens    1\n",
              "dtype: int64"
            ]
          },
          "metadata": {},
          "execution_count": 27
        }
      ],
      "source": [
        "df_16 = df_16[(df_16[['childrens', 'pensioners', 'employmens']].isna().all(axis=1))] = df_2019 # Берем недостающие данные из датасета за 2019 год.\n",
        "df_16.isnull().sum()\n"
      ]
    },
    {
      "cell_type": "code",
      "execution_count": null,
      "metadata": {
        "id": "11KI0s5-v42m"
      },
      "outputs": [],
      "source": [
        "df_16 = get_data(df_16)\n",
        "total_df = total_df.merge(df_16, on = 'region', how ='left')"
      ]
    },
    {
      "cell_type": "markdown",
      "metadata": {
        "id": "nD49EMlbdVap"
      },
      "source": [
        "#1.17 Отношение числа занятых в экономике региона к численности населения регтона в трудоспособном возрасте, %"
      ]
    },
    {
      "cell_type": "markdown",
      "metadata": {
        "id": "hUDhzE3D6mlD"
      },
      "source": [
        "Данные взяты на ресурсе \" РОССТАТ\""
      ]
    },
    {
      "cell_type": "markdown",
      "metadata": {
        "id": "oV8r0X251U5p"
      },
      "source": [
        "percrnt_employmens -  Отношение числа занятых в экономике региона к численности\n",
        "населения региона в трудоспособном возрасте, %,"
      ]
    },
    {
      "cell_type": "markdown",
      "metadata": {
        "id": "C8mY_WoK7yFN"
      },
      "source": [
        "data_1 - Численность населения в трудоспособном возрасте по регионам РФ за 2022 год."
      ]
    },
    {
      "cell_type": "markdown",
      "metadata": {
        "id": "UtuAwCWLkBBu"
      },
      "source": [
        "data_2 - Численность занятых в экономике по регионам РФ за 2022 год."
      ]
    },
    {
      "cell_type": "code",
      "execution_count": null,
      "metadata": {
        "id": "me6lfFmhg9l8"
      },
      "outputs": [],
      "source": [
        "data_1 = pd.read_excel('/content/data/Бюллетень_2023.xlsx')\n",
        "data_1 = data_1[['region', 'Unnamed: 3']]\n",
        "data_1 = get_data(data_1)\n",
        "data_2 = pd.read_excel('/content/data/Trud-2_15-72.xlsx')\n",
        "data_2 = data_2[['region', 'Unnamed: 23']]\n",
        "data_2 = get_data(data_2)\n",
        "df_17 = data_1.merge(data_2, on = 'region', how = 'inner')\n",
        "df_17['percent_employmens'] = df_17['Unnamed: 23'] / df_17['Unnamed: 3'] * 100\n",
        "df_17['percent_employmens'] = df_17['percent_employmens'].apply(lambda x: round(x))\n",
        "df_17 = df_17[['region', 'percent_employmens']]\n",
        "total_df = total_df.merge(df_17, on = 'region', how ='left')"
      ]
    },
    {
      "cell_type": "markdown",
      "metadata": {
        "id": "K4BrvriAel13"
      },
      "source": [
        "#1.18 Валовый региональный продукт на душу населения за 2020 год, в рублях."
      ]
    },
    {
      "cell_type": "markdown",
      "metadata": {
        "id": "YkdUJK4pkJr5"
      },
      "source": [
        "Данные взяты на ресурсе \" РОССТАТ\""
      ]
    },
    {
      "cell_type": "markdown",
      "metadata": {
        "id": "U7_3RaDCe61X"
      },
      "source": [
        "gross_regional_product - Валовый региональный продукт на душу населения за 2020 год, в рублях."
      ]
    },
    {
      "cell_type": "code",
      "execution_count": null,
      "metadata": {
        "id": "usSwTiEIfPTh"
      },
      "outputs": [],
      "source": [
        "df_18 = pd.read_excel('/content/data/RR_pokaz_09-02_2022.xlsx')\n",
        "df_18 = df_18.rename(columns ={'Unnamed: 6': 'gross_regional_product'})\n",
        "df_18 = df_18[['region', 'gross_regional_product']]\n",
        "df_18 = get_data(df_18)\n",
        "total_df = total_df.merge(df_18, on = 'region', how ='left')"
      ]
    },
    {
      "cell_type": "markdown",
      "metadata": {
        "id": "GRgkELg0guj2"
      },
      "source": [
        "#1.19 Объем отгруженных товаров собственного производства, выполненных работ и услуг собственными силами по субъектам Российской Федерации за 2022 год.\n",
        " (млн.руб.)"
      ]
    },
    {
      "cell_type": "markdown",
      "metadata": {
        "id": "S9ueW6H8kLOc"
      },
      "source": [
        "Данные взяты на ресурсе \" РОССТАТ\""
      ]
    },
    {
      "cell_type": "markdown",
      "metadata": {
        "id": "v_yUehpctBHa"
      },
      "source": [
        "regional_product -  объём отгруженных товаров\n",
        "собственного производства или работ/услуг, выполненных\n",
        "собственными силами, за 2022 г. в тыс. рублей."
      ]
    },
    {
      "cell_type": "code",
      "execution_count": null,
      "metadata": {
        "id": "TGG6ZwVHmHKH"
      },
      "outputs": [],
      "source": [
        "sheet = pd.read_excel('/content/data/otgruz_sub_god (1).xlsx')\n",
        "sheet_1 = pd.read_excel('/content/data/otgruz_sub_god (1).xlsx', sheet_name= 1)\n",
        "sheet_2 = pd.read_excel('/content/data/otgruz_sub_god (1).xlsx', sheet_name= 2)\n",
        "sheet_3 = pd.read_excel('/content/data/otgruz_sub_god (1).xlsx', sheet_name= 3)\n",
        "sheet_4 = pd.read_excel('/content/data/otgruz_sub_god (1).xlsx', sheet_name= 4)"
      ]
    },
    {
      "cell_type": "code",
      "execution_count": null,
      "metadata": {
        "id": "OsqyZ-qFm-p8"
      },
      "outputs": [],
      "source": [
        "def get_product_set(df):\n",
        "  df = df.rename(columns = {'К содержанию': 'region'})\n",
        "  df = df[['region', 'Unnamed: 6']]\n",
        "  df = get_data(df)\n",
        "  return df"
      ]
    },
    {
      "cell_type": "code",
      "execution_count": null,
      "metadata": {
        "id": "LEZg3K-kokTU"
      },
      "outputs": [],
      "source": [
        "sheet = get_product_set(sheet)\n",
        "sheet_1 = get_product_set(sheet_1)\n",
        "sheet_2 = get_product_set(sheet_2)\n",
        "sheet_3 = get_product_set(sheet_3)\n",
        "sheet_4 = get_product_set(sheet_4)"
      ]
    },
    {
      "cell_type": "code",
      "execution_count": null,
      "metadata": {
        "id": "d0L8KilIr79p"
      },
      "outputs": [],
      "source": [
        "df_19 = sheet.merge(sheet_1, on = 'region').merge(sheet_2, on = 'region').merge(sheet_3, on = 'region').merge(sheet_4, on = 'region')\n",
        "df_19['regional_product'] = df_19.iloc[:, 1:6].sum(axis =1)\n",
        "df_19 = df_19[['region', 'regional_product']]\n",
        "total_df = total_df.merge(df_19, on = 'region', how ='left')"
      ]
    },
    {
      "cell_type": "markdown",
      "metadata": {
        "id": "EPa0rRVry5Op"
      },
      "source": [
        "#1.20 Оборот розничной\n",
        "#торговли на душу населения за 2022 год, в рублях."
      ]
    },
    {
      "cell_type": "markdown",
      "metadata": {
        "id": "i_plb40i0JcJ"
      },
      "source": [
        "Данные взяты на ресурсе \" РОССТАТ\""
      ]
    },
    {
      "cell_type": "markdown",
      "metadata": {
        "id": "oDyFoV5Xz0OF"
      },
      "source": [
        "retail_turnover_per_capital - Оборот розничной торговли на душу населения, в рублях"
      ]
    },
    {
      "cell_type": "code",
      "execution_count": null,
      "metadata": {
        "id": "Od1l4Iff0VOw"
      },
      "outputs": [],
      "source": [
        "df_20 = pd.read_excel('/content/data/Oborot_dusha.xlsx')\n",
        "df_20 = df_20.rename(columns = {'Unnamed: 23': 'retail_turnover_per_capital'})\n",
        "df_20 = df_20[['region', 'retail_turnover_per_capital']]\n",
        "df_20 = get_data(df_20)\n",
        "total_df = total_df.merge(df_20, on = 'region', how ='left')"
      ]
    },
    {
      "cell_type": "markdown",
      "metadata": {
        "id": "4Ln0zZejxD6n"
      },
      "source": [
        "# Прожиточный минимум для трудоспособного населения за 2022 год."
      ]
    },
    {
      "cell_type": "markdown",
      "metadata": {
        "id": "ch9EPvsQxD5h"
      },
      "source": [
        "liwing_wage - прожиточный минимум."
      ]
    },
    {
      "cell_type": "code",
      "execution_count": null,
      "metadata": {
        "id": "xcjcrbCSwJkY"
      },
      "outputs": [],
      "source": [
        "df_21 = pd.read_excel('/content/data/прожиточный минимум.xlsx')\n",
        "df_21 = df_21.rename(columns = {'В том числе по социально-демографическим группам:': 'living_wage'})\n",
        "df_21 = df_21[['region', 'living_wage']]\n",
        "df_21 = get_data(df_21)\n",
        "total_df = total_df.merge(df_21, on = 'region', how = 'left')\n"
      ]
    },
    {
      "cell_type": "markdown",
      "metadata": {
        "id": "y1Xr1GGDz8SC"
      },
      "source": [
        "#1.22 Расходы на социальную политику от\n",
        "#общих расходов бюджета региона, % в год."
      ]
    },
    {
      "cell_type": "code",
      "execution_count": null,
      "metadata": {
        "id": "_DiH4vdC6F3j"
      },
      "outputs": [],
      "source": [
        "def get_data(df):\n",
        "  \"\"\" Функция для получения датасета \"\"\"\n",
        "  df = df.dropna(inplace = False).reset_index(drop = True) # Убираем значения nan\n",
        "  df['region'] = df['region'].apply(lambda x: x.strip()) # Убираем лишние пробелы\n",
        "  #df = df[df['region'].isin (double_region) == False ] # Убираем дублтрованные области\n",
        "  df['region'] = df['region'].apply(lambda x: x.lower()) # Переходим в нижний регистр\n",
        "  df['region'] = df['region'].apply(lambda x: re.sub(r\"\\(.*\\)\", \"\", x)) # Убираем то, что в скобках\n",
        "  df['region'] = df['region'].apply(get_region) # Запускаем функцию стандартных названий регионов\n",
        "  df = df.dropna(inplace = False).reset_index(drop = True) # Избавляемся от значений None\n",
        "  df = df.sort_values('region').reset_index(drop =True) # Сортируем по алфавиту датасет\n",
        "  return df"
      ]
    },
    {
      "cell_type": "markdown",
      "metadata": {
        "id": "cs5xdvKTL1Dq"
      },
      "source": [
        "Данные взяты с портала \"Если быть точным\"."
      ]
    },
    {
      "cell_type": "markdown",
      "metadata": {
        "id": "XADN_yAuJ1YA"
      },
      "source": [
        "welfare_expense_share - Расходы на социальную политику от\n",
        "общих расходов бюджета региона, % в год."
      ]
    },
    {
      "cell_type": "code",
      "execution_count": null,
      "metadata": {
        "id": "mQMMc5MQzmLb"
      },
      "outputs": [],
      "source": [
        "df_22 = pd.read_excel('/content/data/welfare_expense_share_2015_2020.xlsx')\n",
        "df_22 = df_22.rename(columns = {2020: 'welfare_expense_share'})\n",
        "df_22 = df_22[['region', 'welfare_expense_share']]\n",
        "df_22 = get_data(df_22)\n",
        "total_df = total_df.merge(df_22, on = 'region', how ='left')"
      ]
    },
    {
      "cell_type": "markdown",
      "metadata": {
        "id": "RRxoeMoDnWA_"
      },
      "source": [
        "#1.23 Преступность"
      ]
    },
    {
      "cell_type": "markdown",
      "metadata": {
        "id": "CUN8JI4MBchr"
      },
      "source": [
        "total_crime - Всего зарегистрированных преступлений."
      ]
    },
    {
      "cell_type": "markdown",
      "metadata": {
        "id": "YKm3iF4mBn68"
      },
      "source": [
        "especialy_serious_crime\t- Количество особо тяжких преступлений."
      ]
    },
    {
      "cell_type": "markdown",
      "metadata": {
        "id": "wF_GYxgJB7U_"
      },
      "source": [
        "serious_crime\t- Количество тяжких преступлений."
      ]
    },
    {
      "cell_type": "markdown",
      "metadata": {
        "id": "ScsbIO2lCEf6"
      },
      "source": [
        "crime_of_moderaty_severity- Количество преступлений средней тяжести."
      ]
    },
    {
      "cell_type": "markdown",
      "metadata": {
        "id": "1ktx8BHOCNgd"
      },
      "source": [
        "minor_crime - Количество преступлений небольшой тяжести."
      ]
    },
    {
      "cell_type": "code",
      "execution_count": null,
      "metadata": {
        "id": "tz0j_3OFIFWn"
      },
      "outputs": [],
      "source": [
        "def get_crime_set(df):\n",
        "  df = df.rename(columns = {'Unnamed: 1': 'region'})\n",
        "  df.drop('Unnamed: 0', axis = 1, inplace =True)\n",
        "  df = get_data(df)\n",
        "  df['total'] = df.iloc[:, 1:11].sum(axis =1).astype(int)\n",
        "  df = df[['region', 'total']]\n",
        "  return df"
      ]
    },
    {
      "cell_type": "code",
      "execution_count": null,
      "metadata": {
        "id": "yK9KQgIqLwqk"
      },
      "outputs": [],
      "source": [
        "sheet = pd.read_excel('/content/data/4-EGS_Razdel_4_122020.xls')\n",
        "sheet_1 = pd.read_excel('/content/data/4-EGS_Razdel_4_122020.xls', sheet_name= 1)\n",
        "sheet_2 = pd.read_excel('/content/data/4-EGS_Razdel_4_122020.xls', sheet_name= 2)\n",
        "sheet_3 = pd.read_excel('/content/data/4-EGS_Razdel_4_122020.xls', sheet_name= 3)\n",
        "sheet_4 = pd.read_excel('/content/data/4-EGS_Razdel_4_122020.xls', sheet_name= 4)\n"
      ]
    },
    {
      "cell_type": "code",
      "execution_count": null,
      "metadata": {
        "id": "Ge30PxBGKKQ5"
      },
      "outputs": [],
      "source": [
        "sheet = get_crime_set(sheet)\n",
        "sheet_1 = get_crime_set(sheet_1)\n",
        "sheet_2 = get_crime_set(sheet_2)\n",
        "sheet_3 = get_crime_set(sheet_3)\n",
        "sheet_4 = get_crime_set(sheet_4)"
      ]
    },
    {
      "cell_type": "code",
      "execution_count": null,
      "metadata": {
        "id": "ROo8tdWoKKPe"
      },
      "outputs": [],
      "source": [
        "sheet = sheet.rename(columns = {'total': 'total_crime'})\n",
        "sheet_1 = sheet_1.rename(columns = {'total': 'especialy_serious_crime'})\n",
        "sheet_2 = sheet_2.rename(columns = {'total': 'serious_crime'})\n",
        "sheet_3 = sheet_3.rename(columns = {'total': 'crime_of_moderaty_severity'})\n",
        "sheet_4 = sheet_4.rename(columns = {'total': 'minor_crime'})\n"
      ]
    },
    {
      "cell_type": "code",
      "execution_count": 45,
      "metadata": {
        "id": "OgJiofU3GPXI",
        "colab": {
          "base_uri": "https://localhost:8080/",
          "height": 687
        },
        "outputId": "db399549-a306-4975-c2f7-9fa50a4247cd"
      },
      "outputs": [
        {
          "output_type": "execute_result",
          "data": {
            "text/plain": [
              "                                    region nominal_income real_income  \\\n",
              "0                           Алтайский край          31142        97.6   \n",
              "1                         Амурская область          44891        98.9   \n",
              "2   Архангельская область без Ненецкого АО          45951        95.1   \n",
              "3                     Астраханская область          31084        97.7   \n",
              "4                     Белгородская область          41009        99.7   \n",
              "..                                     ...            ...         ...   \n",
              "80                    Чеченская Республика          30335       102.3   \n",
              "81                    Чувашская Республика          27206        98.4   \n",
              "82              Чукотский автономный округ         113096       103.3   \n",
              "83         Ямало-Ненецкий автономный округ         116257       101.4   \n",
              "84                     Ярославская область          38032        97.1   \n",
              "\n",
              "    avg_salary real_avg_salary infant_mortality infant_mortality_per_1000  \\\n",
              "0      36991.0      100.703512               34                       3.6   \n",
              "1      65104.0       99.508164               10                       2.8   \n",
              "2      62683.0       96.487654               17                       4.1   \n",
              "3      45833.0       99.697002               27                       5.2   \n",
              "4      46846.0       99.446808               24                         4   \n",
              "..         ...             ...              ...                       ...   \n",
              "80     33843.0       94.821218              103                       6.7   \n",
              "81     40222.0      101.180011               11                         2   \n",
              "82    139873.0       102.01494                3                        12   \n",
              "83    130013.0      102.502483               15                       4.4   \n",
              "84     45664.0      100.090801               19                       3.8   \n",
              "\n",
              "   disabled  child_pregnancy  congenital_anomalies  ...  total_crime_x  \\\n",
              "0    159038              3.3                 200.1  ...          34061   \n",
              "1     57024              4.4                 370.1  ...          13261   \n",
              "2     76702             13.8                 458.9  ...          15754   \n",
              "3     40324              0.0                 415.1  ...          11787   \n",
              "4    174508              0.0                 136.2  ...          10580   \n",
              "..      ...              ...                   ...  ...            ...   \n",
              "80   184004              0.0                  73.6  ...           1511   \n",
              "81    71701              3.3                 487.8  ...          11763   \n",
              "82     1620            111.5                 255.2  ...            776   \n",
              "83    13811             11.3                 258.9  ...           5506   \n",
              "84    84572            624.4                 171.6  ...          10960   \n",
              "\n",
              "    especialy_serious_crime_x  serious_crime_x crime_of_moderaty_severity_x  \\\n",
              "0                        1107             4719                         8072   \n",
              "1                         545             2540                         3392   \n",
              "2                         773             2734                         4295   \n",
              "3                         610             1647                         2872   \n",
              "4                         400             1490                         2531   \n",
              "..                        ...              ...                          ...   \n",
              "80                         30              303                          336   \n",
              "81                       1877             1633                         2143   \n",
              "82                         35              146                          163   \n",
              "83                        323              791                         1170   \n",
              "84                        613             1822                         3093   \n",
              "\n",
              "   minor_crime_x total_crime_y especialy_serious_crime_y serious_crime_y  \\\n",
              "0          20163         34061                      1107            4719   \n",
              "1           6784         13261                       545            2540   \n",
              "2           7952         15754                       773            2734   \n",
              "3           6658         11787                       610            1647   \n",
              "4           6159         10580                       400            1490   \n",
              "..           ...           ...                       ...             ...   \n",
              "80           842          1511                        30             303   \n",
              "81          6110         11763                      1877            1633   \n",
              "82           432           776                        35             146   \n",
              "83          3222          5506                       323             791   \n",
              "84          5432         10960                       613            1822   \n",
              "\n",
              "   crime_of_moderaty_severity_y minor_crime_y  \n",
              "0                          8072         20163  \n",
              "1                          3392          6784  \n",
              "2                          4295          7952  \n",
              "3                          2872          6658  \n",
              "4                          2531          6159  \n",
              "..                          ...           ...  \n",
              "80                          336           842  \n",
              "81                         2143          6110  \n",
              "82                          163           432  \n",
              "83                         1170          3222  \n",
              "84                         3093          5432  \n",
              "\n",
              "[85 rows x 50 columns]"
            ],
            "text/html": [
              "\n",
              "  <div id=\"df-2c2a7cfc-30dc-4fb8-b9cc-3081a09d0cea\" class=\"colab-df-container\">\n",
              "    <div>\n",
              "<style scoped>\n",
              "    .dataframe tbody tr th:only-of-type {\n",
              "        vertical-align: middle;\n",
              "    }\n",
              "\n",
              "    .dataframe tbody tr th {\n",
              "        vertical-align: top;\n",
              "    }\n",
              "\n",
              "    .dataframe thead th {\n",
              "        text-align: right;\n",
              "    }\n",
              "</style>\n",
              "<table border=\"1\" class=\"dataframe\">\n",
              "  <thead>\n",
              "    <tr style=\"text-align: right;\">\n",
              "      <th></th>\n",
              "      <th>region</th>\n",
              "      <th>nominal_income</th>\n",
              "      <th>real_income</th>\n",
              "      <th>avg_salary</th>\n",
              "      <th>real_avg_salary</th>\n",
              "      <th>infant_mortality</th>\n",
              "      <th>infant_mortality_per_1000</th>\n",
              "      <th>disabled</th>\n",
              "      <th>child_pregnancy</th>\n",
              "      <th>congenital_anomalies</th>\n",
              "      <th>...</th>\n",
              "      <th>total_crime_x</th>\n",
              "      <th>especialy_serious_crime_x</th>\n",
              "      <th>serious_crime_x</th>\n",
              "      <th>crime_of_moderaty_severity_x</th>\n",
              "      <th>minor_crime_x</th>\n",
              "      <th>total_crime_y</th>\n",
              "      <th>especialy_serious_crime_y</th>\n",
              "      <th>serious_crime_y</th>\n",
              "      <th>crime_of_moderaty_severity_y</th>\n",
              "      <th>minor_crime_y</th>\n",
              "    </tr>\n",
              "  </thead>\n",
              "  <tbody>\n",
              "    <tr>\n",
              "      <th>0</th>\n",
              "      <td>Алтайский край</td>\n",
              "      <td>31142</td>\n",
              "      <td>97.6</td>\n",
              "      <td>36991.0</td>\n",
              "      <td>100.703512</td>\n",
              "      <td>34</td>\n",
              "      <td>3.6</td>\n",
              "      <td>159038</td>\n",
              "      <td>3.3</td>\n",
              "      <td>200.1</td>\n",
              "      <td>...</td>\n",
              "      <td>34061</td>\n",
              "      <td>1107</td>\n",
              "      <td>4719</td>\n",
              "      <td>8072</td>\n",
              "      <td>20163</td>\n",
              "      <td>34061</td>\n",
              "      <td>1107</td>\n",
              "      <td>4719</td>\n",
              "      <td>8072</td>\n",
              "      <td>20163</td>\n",
              "    </tr>\n",
              "    <tr>\n",
              "      <th>1</th>\n",
              "      <td>Амурская область</td>\n",
              "      <td>44891</td>\n",
              "      <td>98.9</td>\n",
              "      <td>65104.0</td>\n",
              "      <td>99.508164</td>\n",
              "      <td>10</td>\n",
              "      <td>2.8</td>\n",
              "      <td>57024</td>\n",
              "      <td>4.4</td>\n",
              "      <td>370.1</td>\n",
              "      <td>...</td>\n",
              "      <td>13261</td>\n",
              "      <td>545</td>\n",
              "      <td>2540</td>\n",
              "      <td>3392</td>\n",
              "      <td>6784</td>\n",
              "      <td>13261</td>\n",
              "      <td>545</td>\n",
              "      <td>2540</td>\n",
              "      <td>3392</td>\n",
              "      <td>6784</td>\n",
              "    </tr>\n",
              "    <tr>\n",
              "      <th>2</th>\n",
              "      <td>Архангельская область без Ненецкого АО</td>\n",
              "      <td>45951</td>\n",
              "      <td>95.1</td>\n",
              "      <td>62683.0</td>\n",
              "      <td>96.487654</td>\n",
              "      <td>17</td>\n",
              "      <td>4.1</td>\n",
              "      <td>76702</td>\n",
              "      <td>13.8</td>\n",
              "      <td>458.9</td>\n",
              "      <td>...</td>\n",
              "      <td>15754</td>\n",
              "      <td>773</td>\n",
              "      <td>2734</td>\n",
              "      <td>4295</td>\n",
              "      <td>7952</td>\n",
              "      <td>15754</td>\n",
              "      <td>773</td>\n",
              "      <td>2734</td>\n",
              "      <td>4295</td>\n",
              "      <td>7952</td>\n",
              "    </tr>\n",
              "    <tr>\n",
              "      <th>3</th>\n",
              "      <td>Астраханская область</td>\n",
              "      <td>31084</td>\n",
              "      <td>97.7</td>\n",
              "      <td>45833.0</td>\n",
              "      <td>99.697002</td>\n",
              "      <td>27</td>\n",
              "      <td>5.2</td>\n",
              "      <td>40324</td>\n",
              "      <td>0.0</td>\n",
              "      <td>415.1</td>\n",
              "      <td>...</td>\n",
              "      <td>11787</td>\n",
              "      <td>610</td>\n",
              "      <td>1647</td>\n",
              "      <td>2872</td>\n",
              "      <td>6658</td>\n",
              "      <td>11787</td>\n",
              "      <td>610</td>\n",
              "      <td>1647</td>\n",
              "      <td>2872</td>\n",
              "      <td>6658</td>\n",
              "    </tr>\n",
              "    <tr>\n",
              "      <th>4</th>\n",
              "      <td>Белгородская область</td>\n",
              "      <td>41009</td>\n",
              "      <td>99.7</td>\n",
              "      <td>46846.0</td>\n",
              "      <td>99.446808</td>\n",
              "      <td>24</td>\n",
              "      <td>4</td>\n",
              "      <td>174508</td>\n",
              "      <td>0.0</td>\n",
              "      <td>136.2</td>\n",
              "      <td>...</td>\n",
              "      <td>10580</td>\n",
              "      <td>400</td>\n",
              "      <td>1490</td>\n",
              "      <td>2531</td>\n",
              "      <td>6159</td>\n",
              "      <td>10580</td>\n",
              "      <td>400</td>\n",
              "      <td>1490</td>\n",
              "      <td>2531</td>\n",
              "      <td>6159</td>\n",
              "    </tr>\n",
              "    <tr>\n",
              "      <th>...</th>\n",
              "      <td>...</td>\n",
              "      <td>...</td>\n",
              "      <td>...</td>\n",
              "      <td>...</td>\n",
              "      <td>...</td>\n",
              "      <td>...</td>\n",
              "      <td>...</td>\n",
              "      <td>...</td>\n",
              "      <td>...</td>\n",
              "      <td>...</td>\n",
              "      <td>...</td>\n",
              "      <td>...</td>\n",
              "      <td>...</td>\n",
              "      <td>...</td>\n",
              "      <td>...</td>\n",
              "      <td>...</td>\n",
              "      <td>...</td>\n",
              "      <td>...</td>\n",
              "      <td>...</td>\n",
              "      <td>...</td>\n",
              "      <td>...</td>\n",
              "    </tr>\n",
              "    <tr>\n",
              "      <th>80</th>\n",
              "      <td>Чеченская Республика</td>\n",
              "      <td>30335</td>\n",
              "      <td>102.3</td>\n",
              "      <td>33843.0</td>\n",
              "      <td>94.821218</td>\n",
              "      <td>103</td>\n",
              "      <td>6.7</td>\n",
              "      <td>184004</td>\n",
              "      <td>0.0</td>\n",
              "      <td>73.6</td>\n",
              "      <td>...</td>\n",
              "      <td>1511</td>\n",
              "      <td>30</td>\n",
              "      <td>303</td>\n",
              "      <td>336</td>\n",
              "      <td>842</td>\n",
              "      <td>1511</td>\n",
              "      <td>30</td>\n",
              "      <td>303</td>\n",
              "      <td>336</td>\n",
              "      <td>842</td>\n",
              "    </tr>\n",
              "    <tr>\n",
              "      <th>81</th>\n",
              "      <td>Чувашская Республика</td>\n",
              "      <td>27206</td>\n",
              "      <td>98.4</td>\n",
              "      <td>40222.0</td>\n",
              "      <td>101.180011</td>\n",
              "      <td>11</td>\n",
              "      <td>2</td>\n",
              "      <td>71701</td>\n",
              "      <td>3.3</td>\n",
              "      <td>487.8</td>\n",
              "      <td>...</td>\n",
              "      <td>11763</td>\n",
              "      <td>1877</td>\n",
              "      <td>1633</td>\n",
              "      <td>2143</td>\n",
              "      <td>6110</td>\n",
              "      <td>11763</td>\n",
              "      <td>1877</td>\n",
              "      <td>1633</td>\n",
              "      <td>2143</td>\n",
              "      <td>6110</td>\n",
              "    </tr>\n",
              "    <tr>\n",
              "      <th>82</th>\n",
              "      <td>Чукотский автономный округ</td>\n",
              "      <td>113096</td>\n",
              "      <td>103.3</td>\n",
              "      <td>139873.0</td>\n",
              "      <td>102.01494</td>\n",
              "      <td>3</td>\n",
              "      <td>12</td>\n",
              "      <td>1620</td>\n",
              "      <td>111.5</td>\n",
              "      <td>255.2</td>\n",
              "      <td>...</td>\n",
              "      <td>776</td>\n",
              "      <td>35</td>\n",
              "      <td>146</td>\n",
              "      <td>163</td>\n",
              "      <td>432</td>\n",
              "      <td>776</td>\n",
              "      <td>35</td>\n",
              "      <td>146</td>\n",
              "      <td>163</td>\n",
              "      <td>432</td>\n",
              "    </tr>\n",
              "    <tr>\n",
              "      <th>83</th>\n",
              "      <td>Ямало-Ненецкий автономный округ</td>\n",
              "      <td>116257</td>\n",
              "      <td>101.4</td>\n",
              "      <td>130013.0</td>\n",
              "      <td>102.502483</td>\n",
              "      <td>15</td>\n",
              "      <td>4.4</td>\n",
              "      <td>13811</td>\n",
              "      <td>11.3</td>\n",
              "      <td>258.9</td>\n",
              "      <td>...</td>\n",
              "      <td>5506</td>\n",
              "      <td>323</td>\n",
              "      <td>791</td>\n",
              "      <td>1170</td>\n",
              "      <td>3222</td>\n",
              "      <td>5506</td>\n",
              "      <td>323</td>\n",
              "      <td>791</td>\n",
              "      <td>1170</td>\n",
              "      <td>3222</td>\n",
              "    </tr>\n",
              "    <tr>\n",
              "      <th>84</th>\n",
              "      <td>Ярославская область</td>\n",
              "      <td>38032</td>\n",
              "      <td>97.1</td>\n",
              "      <td>45664.0</td>\n",
              "      <td>100.090801</td>\n",
              "      <td>19</td>\n",
              "      <td>3.8</td>\n",
              "      <td>84572</td>\n",
              "      <td>624.4</td>\n",
              "      <td>171.6</td>\n",
              "      <td>...</td>\n",
              "      <td>10960</td>\n",
              "      <td>613</td>\n",
              "      <td>1822</td>\n",
              "      <td>3093</td>\n",
              "      <td>5432</td>\n",
              "      <td>10960</td>\n",
              "      <td>613</td>\n",
              "      <td>1822</td>\n",
              "      <td>3093</td>\n",
              "      <td>5432</td>\n",
              "    </tr>\n",
              "  </tbody>\n",
              "</table>\n",
              "<p>85 rows × 50 columns</p>\n",
              "</div>\n",
              "    <div class=\"colab-df-buttons\">\n",
              "\n",
              "  <div class=\"colab-df-container\">\n",
              "    <button class=\"colab-df-convert\" onclick=\"convertToInteractive('df-2c2a7cfc-30dc-4fb8-b9cc-3081a09d0cea')\"\n",
              "            title=\"Convert this dataframe to an interactive table.\"\n",
              "            style=\"display:none;\">\n",
              "\n",
              "  <svg xmlns=\"http://www.w3.org/2000/svg\" height=\"24px\" viewBox=\"0 -960 960 960\">\n",
              "    <path d=\"M120-120v-720h720v720H120Zm60-500h600v-160H180v160Zm220 220h160v-160H400v160Zm0 220h160v-160H400v160ZM180-400h160v-160H180v160Zm440 0h160v-160H620v160ZM180-180h160v-160H180v160Zm440 0h160v-160H620v160Z\"/>\n",
              "  </svg>\n",
              "    </button>\n",
              "\n",
              "  <style>\n",
              "    .colab-df-container {\n",
              "      display:flex;\n",
              "      gap: 12px;\n",
              "    }\n",
              "\n",
              "    .colab-df-convert {\n",
              "      background-color: #E8F0FE;\n",
              "      border: none;\n",
              "      border-radius: 50%;\n",
              "      cursor: pointer;\n",
              "      display: none;\n",
              "      fill: #1967D2;\n",
              "      height: 32px;\n",
              "      padding: 0 0 0 0;\n",
              "      width: 32px;\n",
              "    }\n",
              "\n",
              "    .colab-df-convert:hover {\n",
              "      background-color: #E2EBFA;\n",
              "      box-shadow: 0px 1px 2px rgba(60, 64, 67, 0.3), 0px 1px 3px 1px rgba(60, 64, 67, 0.15);\n",
              "      fill: #174EA6;\n",
              "    }\n",
              "\n",
              "    .colab-df-buttons div {\n",
              "      margin-bottom: 4px;\n",
              "    }\n",
              "\n",
              "    [theme=dark] .colab-df-convert {\n",
              "      background-color: #3B4455;\n",
              "      fill: #D2E3FC;\n",
              "    }\n",
              "\n",
              "    [theme=dark] .colab-df-convert:hover {\n",
              "      background-color: #434B5C;\n",
              "      box-shadow: 0px 1px 3px 1px rgba(0, 0, 0, 0.15);\n",
              "      filter: drop-shadow(0px 1px 2px rgba(0, 0, 0, 0.3));\n",
              "      fill: #FFFFFF;\n",
              "    }\n",
              "  </style>\n",
              "\n",
              "    <script>\n",
              "      const buttonEl =\n",
              "        document.querySelector('#df-2c2a7cfc-30dc-4fb8-b9cc-3081a09d0cea button.colab-df-convert');\n",
              "      buttonEl.style.display =\n",
              "        google.colab.kernel.accessAllowed ? 'block' : 'none';\n",
              "\n",
              "      async function convertToInteractive(key) {\n",
              "        const element = document.querySelector('#df-2c2a7cfc-30dc-4fb8-b9cc-3081a09d0cea');\n",
              "        const dataTable =\n",
              "          await google.colab.kernel.invokeFunction('convertToInteractive',\n",
              "                                                    [key], {});\n",
              "        if (!dataTable) return;\n",
              "\n",
              "        const docLinkHtml = 'Like what you see? Visit the ' +\n",
              "          '<a target=\"_blank\" href=https://colab.research.google.com/notebooks/data_table.ipynb>data table notebook</a>'\n",
              "          + ' to learn more about interactive tables.';\n",
              "        element.innerHTML = '';\n",
              "        dataTable['output_type'] = 'display_data';\n",
              "        await google.colab.output.renderOutput(dataTable, element);\n",
              "        const docLink = document.createElement('div');\n",
              "        docLink.innerHTML = docLinkHtml;\n",
              "        element.appendChild(docLink);\n",
              "      }\n",
              "    </script>\n",
              "  </div>\n",
              "\n",
              "\n",
              "<div id=\"df-e720c04c-c9cc-42a0-a645-1477ed3d8ae3\">\n",
              "  <button class=\"colab-df-quickchart\" onclick=\"quickchart('df-e720c04c-c9cc-42a0-a645-1477ed3d8ae3')\"\n",
              "            title=\"Suggest charts.\"\n",
              "            style=\"display:none;\">\n",
              "\n",
              "<svg xmlns=\"http://www.w3.org/2000/svg\" height=\"24px\"viewBox=\"0 0 24 24\"\n",
              "     width=\"24px\">\n",
              "    <g>\n",
              "        <path d=\"M19 3H5c-1.1 0-2 .9-2 2v14c0 1.1.9 2 2 2h14c1.1 0 2-.9 2-2V5c0-1.1-.9-2-2-2zM9 17H7v-7h2v7zm4 0h-2V7h2v10zm4 0h-2v-4h2v4z\"/>\n",
              "    </g>\n",
              "</svg>\n",
              "  </button>\n",
              "\n",
              "<style>\n",
              "  .colab-df-quickchart {\n",
              "      --bg-color: #E8F0FE;\n",
              "      --fill-color: #1967D2;\n",
              "      --hover-bg-color: #E2EBFA;\n",
              "      --hover-fill-color: #174EA6;\n",
              "      --disabled-fill-color: #AAA;\n",
              "      --disabled-bg-color: #DDD;\n",
              "  }\n",
              "\n",
              "  [theme=dark] .colab-df-quickchart {\n",
              "      --bg-color: #3B4455;\n",
              "      --fill-color: #D2E3FC;\n",
              "      --hover-bg-color: #434B5C;\n",
              "      --hover-fill-color: #FFFFFF;\n",
              "      --disabled-bg-color: #3B4455;\n",
              "      --disabled-fill-color: #666;\n",
              "  }\n",
              "\n",
              "  .colab-df-quickchart {\n",
              "    background-color: var(--bg-color);\n",
              "    border: none;\n",
              "    border-radius: 50%;\n",
              "    cursor: pointer;\n",
              "    display: none;\n",
              "    fill: var(--fill-color);\n",
              "    height: 32px;\n",
              "    padding: 0;\n",
              "    width: 32px;\n",
              "  }\n",
              "\n",
              "  .colab-df-quickchart:hover {\n",
              "    background-color: var(--hover-bg-color);\n",
              "    box-shadow: 0 1px 2px rgba(60, 64, 67, 0.3), 0 1px 3px 1px rgba(60, 64, 67, 0.15);\n",
              "    fill: var(--button-hover-fill-color);\n",
              "  }\n",
              "\n",
              "  .colab-df-quickchart-complete:disabled,\n",
              "  .colab-df-quickchart-complete:disabled:hover {\n",
              "    background-color: var(--disabled-bg-color);\n",
              "    fill: var(--disabled-fill-color);\n",
              "    box-shadow: none;\n",
              "  }\n",
              "\n",
              "  .colab-df-spinner {\n",
              "    border: 2px solid var(--fill-color);\n",
              "    border-color: transparent;\n",
              "    border-bottom-color: var(--fill-color);\n",
              "    animation:\n",
              "      spin 1s steps(1) infinite;\n",
              "  }\n",
              "\n",
              "  @keyframes spin {\n",
              "    0% {\n",
              "      border-color: transparent;\n",
              "      border-bottom-color: var(--fill-color);\n",
              "      border-left-color: var(--fill-color);\n",
              "    }\n",
              "    20% {\n",
              "      border-color: transparent;\n",
              "      border-left-color: var(--fill-color);\n",
              "      border-top-color: var(--fill-color);\n",
              "    }\n",
              "    30% {\n",
              "      border-color: transparent;\n",
              "      border-left-color: var(--fill-color);\n",
              "      border-top-color: var(--fill-color);\n",
              "      border-right-color: var(--fill-color);\n",
              "    }\n",
              "    40% {\n",
              "      border-color: transparent;\n",
              "      border-right-color: var(--fill-color);\n",
              "      border-top-color: var(--fill-color);\n",
              "    }\n",
              "    60% {\n",
              "      border-color: transparent;\n",
              "      border-right-color: var(--fill-color);\n",
              "    }\n",
              "    80% {\n",
              "      border-color: transparent;\n",
              "      border-right-color: var(--fill-color);\n",
              "      border-bottom-color: var(--fill-color);\n",
              "    }\n",
              "    90% {\n",
              "      border-color: transparent;\n",
              "      border-bottom-color: var(--fill-color);\n",
              "    }\n",
              "  }\n",
              "</style>\n",
              "\n",
              "  <script>\n",
              "    async function quickchart(key) {\n",
              "      const quickchartButtonEl =\n",
              "        document.querySelector('#' + key + ' button');\n",
              "      quickchartButtonEl.disabled = true;  // To prevent multiple clicks.\n",
              "      quickchartButtonEl.classList.add('colab-df-spinner');\n",
              "      try {\n",
              "        const charts = await google.colab.kernel.invokeFunction(\n",
              "            'suggestCharts', [key], {});\n",
              "      } catch (error) {\n",
              "        console.error('Error during call to suggestCharts:', error);\n",
              "      }\n",
              "      quickchartButtonEl.classList.remove('colab-df-spinner');\n",
              "      quickchartButtonEl.classList.add('colab-df-quickchart-complete');\n",
              "    }\n",
              "    (() => {\n",
              "      let quickchartButtonEl =\n",
              "        document.querySelector('#df-e720c04c-c9cc-42a0-a645-1477ed3d8ae3 button');\n",
              "      quickchartButtonEl.style.display =\n",
              "        google.colab.kernel.accessAllowed ? 'block' : 'none';\n",
              "    })();\n",
              "  </script>\n",
              "</div>\n",
              "    </div>\n",
              "  </div>\n"
            ]
          },
          "metadata": {},
          "execution_count": 45
        }
      ],
      "source": [
        "df_23 = sheet.merge(sheet_1).merge(sheet_2).merge(sheet_3).merge(sheet_4)\n",
        "total_df = total_df.merge(df_23, on = 'region', how ='left')\n",
        "total_df\n"
      ]
    },
    {
      "cell_type": "code",
      "execution_count": null,
      "metadata": {
        "id": "VNTsAjyjbjC8"
      },
      "outputs": [],
      "source": [
        "total_df.to_csv('/content/data/total_df.csv', index = False) # Запишем наш датасет в файл csv"
      ]
    },
    {
      "cell_type": "markdown",
      "metadata": {
        "id": "e0TdQanYQQ3B"
      },
      "source": [
        "#Вывод:\n",
        "Итак, мы получили таблицу даннх записанную в виде файла csv. Данные представляют из себя информацию по экономическим и демографическим показателям статистики преимуществено за 2022 год. В основном информация была взята на государственном ресурсе \"РОССТАТ\", также был использован источник \"Если быть точнм\"."
      ]
    }
  ],
  "metadata": {
    "colab": {
      "provenance": [],
      "authorship_tag": "ABX9TyPCY9KiuakM2vgcW7zZdmaU",
      "include_colab_link": true
    },
    "kernelspec": {
      "display_name": "Python 3",
      "name": "python3"
    },
    "language_info": {
      "name": "python"
    }
  },
  "nbformat": 4,
  "nbformat_minor": 0
}